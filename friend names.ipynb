{
 "cells": [
  {
   "cell_type": "code",
   "execution_count": 1,
   "id": "25b8fc69",
   "metadata": {},
   "outputs": [],
   "source": [
    "string1='sona'"
   ]
  },
  {
   "cell_type": "code",
   "execution_count": 2,
   "id": "7f466904",
   "metadata": {},
   "outputs": [
    {
     "data": {
      "text/plain": [
       "'sona'"
      ]
     },
     "execution_count": 2,
     "metadata": {},
     "output_type": "execute_result"
    }
   ],
   "source": [
    "string1"
   ]
  },
  {
   "cell_type": "code",
   "execution_count": 3,
   "id": "cc8b1635",
   "metadata": {},
   "outputs": [],
   "source": [
    "string2='vasanthi'"
   ]
  },
  {
   "cell_type": "code",
   "execution_count": 4,
   "id": "5a18d69b",
   "metadata": {},
   "outputs": [
    {
     "data": {
      "text/plain": [
       "'vasanthi'"
      ]
     },
     "execution_count": 4,
     "metadata": {},
     "output_type": "execute_result"
    }
   ],
   "source": [
    "string2"
   ]
  },
  {
   "cell_type": "code",
   "execution_count": 5,
   "id": "0a174631",
   "metadata": {},
   "outputs": [],
   "source": [
    "string3='chandu'"
   ]
  },
  {
   "cell_type": "code",
   "execution_count": 6,
   "id": "a56f1292",
   "metadata": {},
   "outputs": [
    {
     "data": {
      "text/plain": [
       "'chandu'"
      ]
     },
     "execution_count": 6,
     "metadata": {},
     "output_type": "execute_result"
    }
   ],
   "source": [
    "string3"
   ]
  },
  {
   "cell_type": "code",
   "execution_count": 7,
   "id": "66541928",
   "metadata": {},
   "outputs": [],
   "source": [
    "string4='sindhu'"
   ]
  },
  {
   "cell_type": "code",
   "execution_count": 8,
   "id": "89591fd9",
   "metadata": {},
   "outputs": [
    {
     "data": {
      "text/plain": [
       "'sindhu'"
      ]
     },
     "execution_count": 8,
     "metadata": {},
     "output_type": "execute_result"
    }
   ],
   "source": [
    "string4"
   ]
  },
  {
   "cell_type": "code",
   "execution_count": 9,
   "id": "533b03b1",
   "metadata": {},
   "outputs": [],
   "source": [
    "string5='teja'"
   ]
  },
  {
   "cell_type": "code",
   "execution_count": 10,
   "id": "c0080759",
   "metadata": {},
   "outputs": [
    {
     "data": {
      "text/plain": [
       "'teja'"
      ]
     },
     "execution_count": 10,
     "metadata": {},
     "output_type": "execute_result"
    }
   ],
   "source": [
    "string5"
   ]
  },
  {
   "cell_type": "code",
   "execution_count": 11,
   "id": "81c48524",
   "metadata": {},
   "outputs": [],
   "source": [
    "string6='navya'"
   ]
  },
  {
   "cell_type": "code",
   "execution_count": 12,
   "id": "f365db8c",
   "metadata": {},
   "outputs": [
    {
     "data": {
      "text/plain": [
       "'navya'"
      ]
     },
     "execution_count": 12,
     "metadata": {},
     "output_type": "execute_result"
    }
   ],
   "source": [
    "string6"
   ]
  },
  {
   "cell_type": "code",
   "execution_count": 13,
   "id": "3ddd743b",
   "metadata": {},
   "outputs": [],
   "source": [
    "string7='hema'"
   ]
  },
  {
   "cell_type": "code",
   "execution_count": 14,
   "id": "42a2d172",
   "metadata": {},
   "outputs": [
    {
     "data": {
      "text/plain": [
       "'hema'"
      ]
     },
     "execution_count": 14,
     "metadata": {},
     "output_type": "execute_result"
    }
   ],
   "source": [
    "string7"
   ]
  },
  {
   "cell_type": "code",
   "execution_count": 15,
   "id": "da790b65",
   "metadata": {},
   "outputs": [],
   "source": [
    "string8='naveena'"
   ]
  },
  {
   "cell_type": "code",
   "execution_count": 16,
   "id": "4dfd6416",
   "metadata": {},
   "outputs": [
    {
     "data": {
      "text/plain": [
       "'naveena'"
      ]
     },
     "execution_count": 16,
     "metadata": {},
     "output_type": "execute_result"
    }
   ],
   "source": [
    "string8"
   ]
  },
  {
   "cell_type": "code",
   "execution_count": 17,
   "id": "65df5c20",
   "metadata": {},
   "outputs": [],
   "source": [
    "string9='deepika'"
   ]
  },
  {
   "cell_type": "code",
   "execution_count": 18,
   "id": "1b51f399",
   "metadata": {},
   "outputs": [
    {
     "data": {
      "text/plain": [
       "'deepika'"
      ]
     },
     "execution_count": 18,
     "metadata": {},
     "output_type": "execute_result"
    }
   ],
   "source": [
    "string9"
   ]
  },
  {
   "cell_type": "code",
   "execution_count": 19,
   "id": "a781d224",
   "metadata": {},
   "outputs": [],
   "source": [
    "string10='ayesha'"
   ]
  },
  {
   "cell_type": "code",
   "execution_count": 20,
   "id": "0393761b",
   "metadata": {},
   "outputs": [
    {
     "data": {
      "text/plain": [
       "'ayesha'"
      ]
     },
     "execution_count": 20,
     "metadata": {},
     "output_type": "execute_result"
    }
   ],
   "source": [
    "string10"
   ]
  },
  {
   "cell_type": "code",
   "execution_count": null,
   "id": "f7346ce2",
   "metadata": {},
   "outputs": [],
   "source": []
  },
  {
   "cell_type": "code",
   "execution_count": null,
   "id": "512553c4",
   "metadata": {},
   "outputs": [],
   "source": []
  },
  {
   "cell_type": "code",
   "execution_count": null,
   "id": "a156c331",
   "metadata": {},
   "outputs": [],
   "source": []
  },
  {
   "cell_type": "code",
   "execution_count": null,
   "id": "3e6f1c8f",
   "metadata": {},
   "outputs": [],
   "source": []
  },
  {
   "cell_type": "code",
   "execution_count": null,
   "id": "c7776df1",
   "metadata": {},
   "outputs": [],
   "source": []
  },
  {
   "cell_type": "code",
   "execution_count": null,
   "id": "6973d749",
   "metadata": {},
   "outputs": [],
   "source": []
  },
  {
   "cell_type": "code",
   "execution_count": null,
   "id": "ca1551ca",
   "metadata": {},
   "outputs": [],
   "source": []
  },
  {
   "cell_type": "code",
   "execution_count": null,
   "id": "cf6b20af",
   "metadata": {},
   "outputs": [],
   "source": []
  },
  {
   "cell_type": "code",
   "execution_count": null,
   "id": "988796e3",
   "metadata": {},
   "outputs": [],
   "source": []
  },
  {
   "cell_type": "code",
   "execution_count": null,
   "id": "b37f17db",
   "metadata": {},
   "outputs": [],
   "source": []
  },
  {
   "cell_type": "code",
   "execution_count": null,
   "id": "8b376c20",
   "metadata": {},
   "outputs": [],
   "source": []
  },
  {
   "cell_type": "code",
   "execution_count": null,
   "id": "cba79b6a",
   "metadata": {},
   "outputs": [],
   "source": []
  },
  {
   "cell_type": "code",
   "execution_count": null,
   "id": "008e4652",
   "metadata": {},
   "outputs": [],
   "source": []
  },
  {
   "cell_type": "code",
   "execution_count": null,
   "id": "2bf58d26",
   "metadata": {},
   "outputs": [],
   "source": []
  },
  {
   "cell_type": "code",
   "execution_count": null,
   "id": "473f9455",
   "metadata": {},
   "outputs": [],
   "source": []
  },
  {
   "cell_type": "code",
   "execution_count": null,
   "id": "c2a9344f",
   "metadata": {},
   "outputs": [],
   "source": []
  },
  {
   "cell_type": "code",
   "execution_count": null,
   "id": "420a7ee4",
   "metadata": {},
   "outputs": [],
   "source": []
  },
  {
   "cell_type": "code",
   "execution_count": null,
   "id": "19793ecf",
   "metadata": {},
   "outputs": [],
   "source": []
  },
  {
   "cell_type": "code",
   "execution_count": null,
   "id": "13670f66",
   "metadata": {},
   "outputs": [],
   "source": []
  }
 ],
 "metadata": {
  "kernelspec": {
   "display_name": "Python 3 (ipykernel)",
   "language": "python",
   "name": "python3"
  },
  "language_info": {
   "codemirror_mode": {
    "name": "ipython",
    "version": 3
   },
   "file_extension": ".py",
   "mimetype": "text/x-python",
   "name": "python",
   "nbconvert_exporter": "python",
   "pygments_lexer": "ipython3",
   "version": "3.10.9"
  }
 },
 "nbformat": 4,
 "nbformat_minor": 5
}
