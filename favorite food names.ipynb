{
 "cells": [
  {
   "cell_type": "code",
   "execution_count": 1,
   "id": "ffc70722",
   "metadata": {},
   "outputs": [],
   "source": [
    "var4='jilabi'"
   ]
  },
  {
   "cell_type": "code",
   "execution_count": 2,
   "id": "f4006308",
   "metadata": {},
   "outputs": [
    {
     "data": {
      "text/plain": [
       "'jilabi'"
      ]
     },
     "execution_count": 2,
     "metadata": {},
     "output_type": "execute_result"
    }
   ],
   "source": [
    "var4"
   ]
  },
  {
   "cell_type": "code",
   "execution_count": 3,
   "id": "7c170715",
   "metadata": {},
   "outputs": [],
   "source": [
    "var5='pizza'"
   ]
  },
  {
   "cell_type": "code",
   "execution_count": 4,
   "id": "fdd1e942",
   "metadata": {},
   "outputs": [
    {
     "data": {
      "text/plain": [
       "'pizza'"
      ]
     },
     "execution_count": 4,
     "metadata": {},
     "output_type": "execute_result"
    }
   ],
   "source": [
    "var5"
   ]
  },
  {
   "cell_type": "code",
   "execution_count": 5,
   "id": "61de7652",
   "metadata": {},
   "outputs": [],
   "source": [
    "var6='biryani'"
   ]
  },
  {
   "cell_type": "code",
   "execution_count": 6,
   "id": "6bbc8777",
   "metadata": {},
   "outputs": [
    {
     "data": {
      "text/plain": [
       "'biryani'"
      ]
     },
     "execution_count": 6,
     "metadata": {},
     "output_type": "execute_result"
    }
   ],
   "source": [
    "var6"
   ]
  },
  {
   "cell_type": "code",
   "execution_count": 7,
   "id": "ca84cb83",
   "metadata": {},
   "outputs": [],
   "source": [
    "var7='motton'"
   ]
  },
  {
   "cell_type": "code",
   "execution_count": 8,
   "id": "122db44b",
   "metadata": {},
   "outputs": [
    {
     "data": {
      "text/plain": [
       "'motton'"
      ]
     },
     "execution_count": 8,
     "metadata": {},
     "output_type": "execute_result"
    }
   ],
   "source": [
    "var7"
   ]
  },
  {
   "cell_type": "code",
   "execution_count": 9,
   "id": "1888fb9a",
   "metadata": {},
   "outputs": [],
   "source": [
    "var8='chiken'"
   ]
  },
  {
   "cell_type": "code",
   "execution_count": 10,
   "id": "fa2a9676",
   "metadata": {},
   "outputs": [
    {
     "data": {
      "text/plain": [
       "'chiken'"
      ]
     },
     "execution_count": 10,
     "metadata": {},
     "output_type": "execute_result"
    }
   ],
   "source": [
    "var8"
   ]
  },
  {
   "cell_type": "code",
   "execution_count": 11,
   "id": "6dd2dc97",
   "metadata": {},
   "outputs": [],
   "source": [
    "var9='pasta'"
   ]
  },
  {
   "cell_type": "code",
   "execution_count": 12,
   "id": "c9425397",
   "metadata": {},
   "outputs": [
    {
     "data": {
      "text/plain": [
       "'pasta'"
      ]
     },
     "execution_count": 12,
     "metadata": {},
     "output_type": "execute_result"
    }
   ],
   "source": [
    "var9"
   ]
  },
  {
   "cell_type": "code",
   "execution_count": 13,
   "id": "fceb32ac",
   "metadata": {},
   "outputs": [],
   "source": [
    "var10='halwa'"
   ]
  },
  {
   "cell_type": "code",
   "execution_count": 14,
   "id": "8dc863b9",
   "metadata": {},
   "outputs": [
    {
     "data": {
      "text/plain": [
       "'halwa'"
      ]
     },
     "execution_count": 14,
     "metadata": {},
     "output_type": "execute_result"
    }
   ],
   "source": [
    "var10"
   ]
  },
  {
   "cell_type": "code",
   "execution_count": 15,
   "id": "a143daf7",
   "metadata": {},
   "outputs": [],
   "source": [
    "var11='panipuri'"
   ]
  },
  {
   "cell_type": "code",
   "execution_count": 16,
   "id": "f9d21d92",
   "metadata": {},
   "outputs": [
    {
     "data": {
      "text/plain": [
       "'panipuri'"
      ]
     },
     "execution_count": 16,
     "metadata": {},
     "output_type": "execute_result"
    }
   ],
   "source": [
    "var11"
   ]
  },
  {
   "cell_type": "code",
   "execution_count": 17,
   "id": "3690dfa4",
   "metadata": {},
   "outputs": [],
   "source": [
    "var12='chatmasalla'"
   ]
  },
  {
   "cell_type": "code",
   "execution_count": 18,
   "id": "4dbd589a",
   "metadata": {},
   "outputs": [
    {
     "data": {
      "text/plain": [
       "'chatmasalla'"
      ]
     },
     "execution_count": 18,
     "metadata": {},
     "output_type": "execute_result"
    }
   ],
   "source": [
    "var12"
   ]
  },
  {
   "cell_type": "code",
   "execution_count": 19,
   "id": "4bba66de",
   "metadata": {},
   "outputs": [],
   "source": [
    "var13='dosa'"
   ]
  },
  {
   "cell_type": "code",
   "execution_count": 20,
   "id": "4a0f1cd5",
   "metadata": {},
   "outputs": [
    {
     "data": {
      "text/plain": [
       "'dosa'"
      ]
     },
     "execution_count": 20,
     "metadata": {},
     "output_type": "execute_result"
    }
   ],
   "source": [
    "var13"
   ]
  },
  {
   "cell_type": "code",
   "execution_count": 21,
   "id": "4894e815",
   "metadata": {},
   "outputs": [],
   "source": [
    "var14='kheer'"
   ]
  },
  {
   "cell_type": "code",
   "execution_count": 22,
   "id": "748b870b",
   "metadata": {},
   "outputs": [
    {
     "data": {
      "text/plain": [
       "'kheer'"
      ]
     },
     "execution_count": 22,
     "metadata": {},
     "output_type": "execute_result"
    }
   ],
   "source": [
    "var14"
   ]
  },
  {
   "cell_type": "code",
   "execution_count": null,
   "id": "821df20e",
   "metadata": {},
   "outputs": [],
   "source": []
  },
  {
   "cell_type": "code",
   "execution_count": null,
   "id": "15f7f6a9",
   "metadata": {},
   "outputs": [],
   "source": []
  },
  {
   "cell_type": "code",
   "execution_count": null,
   "id": "380c6b2a",
   "metadata": {},
   "outputs": [],
   "source": []
  },
  {
   "cell_type": "code",
   "execution_count": null,
   "id": "0a6763e8",
   "metadata": {},
   "outputs": [],
   "source": []
  },
  {
   "cell_type": "code",
   "execution_count": null,
   "id": "006cb830",
   "metadata": {},
   "outputs": [],
   "source": []
  },
  {
   "cell_type": "code",
   "execution_count": null,
   "id": "5bf1a4fc",
   "metadata": {},
   "outputs": [],
   "source": []
  }
 ],
 "metadata": {
  "kernelspec": {
   "display_name": "Python 3 (ipykernel)",
   "language": "python",
   "name": "python3"
  },
  "language_info": {
   "codemirror_mode": {
    "name": "ipython",
    "version": 3
   },
   "file_extension": ".py",
   "mimetype": "text/x-python",
   "name": "python",
   "nbconvert_exporter": "python",
   "pygments_lexer": "ipython3",
   "version": "3.10.9"
  }
 },
 "nbformat": 4,
 "nbformat_minor": 5
}
