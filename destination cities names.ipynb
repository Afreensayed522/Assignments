{
 "cells": [
  {
   "cell_type": "code",
   "execution_count": 9,
   "id": "ddced925",
   "metadata": {},
   "outputs": [],
   "source": [
    "dictt={\"destination\":[\"london\",\"mumbai\",\"delhi\",\"paris\",\"dubai\",\"jaipur\",\"rome\",\"agra\",\"tokyo\",\"shimla\"],\"rating\":[\"4\",\"2\",\"7\",\n",
    "                      \"1\",\"6\",\"9\",\"5\",\"7\",\"3\",\"4\"]}\n",
    "\n"
   ]
  },
  {
   "cell_type": "code",
   "execution_count": 10,
   "id": "749ed8da",
   "metadata": {},
   "outputs": [
    {
     "data": {
      "text/plain": [
       "{'destination': ['london',\n",
       "  'mumbai',\n",
       "  'delhi',\n",
       "  'paris',\n",
       "  'dubai',\n",
       "  'jaipur',\n",
       "  'rome',\n",
       "  'agra',\n",
       "  'tokyo',\n",
       "  'shimla'],\n",
       " 'rating': ['4', '2', '7', '1', '6', '9', '5', '7', '3', '4']}"
      ]
     },
     "execution_count": 10,
     "metadata": {},
     "output_type": "execute_result"
    }
   ],
   "source": [
    "dictt"
   ]
  },
  {
   "cell_type": "code",
   "execution_count": 11,
   "id": "4f3e99ab",
   "metadata": {},
   "outputs": [],
   "source": [
    "dictt={\"destination\":[\"paris\",\"london\",\"agra\"],\"rating\":[\"1\",\"2\",\"3\"]}"
   ]
  },
  {
   "cell_type": "code",
   "execution_count": 12,
   "id": "6b7a8811",
   "metadata": {},
   "outputs": [
    {
     "data": {
      "text/plain": [
       "{'destination': ['paris', 'london', 'agra'], 'rating': ['1', '2', '3']}"
      ]
     },
     "execution_count": 12,
     "metadata": {},
     "output_type": "execute_result"
    }
   ],
   "source": [
    "dictt"
   ]
  },
  {
   "cell_type": "code",
   "execution_count": null,
   "id": "eb363b6e",
   "metadata": {},
   "outputs": [],
   "source": []
  },
  {
   "cell_type": "code",
   "execution_count": null,
   "id": "e13c7db4",
   "metadata": {},
   "outputs": [],
   "source": []
  }
 ],
 "metadata": {
  "kernelspec": {
   "display_name": "Python 3 (ipykernel)",
   "language": "python",
   "name": "python3"
  },
  "language_info": {
   "codemirror_mode": {
    "name": "ipython",
    "version": 3
   },
   "file_extension": ".py",
   "mimetype": "text/x-python",
   "name": "python",
   "nbconvert_exporter": "python",
   "pygments_lexer": "ipython3",
   "version": "3.10.9"
  }
 },
 "nbformat": 4,
 "nbformat_minor": 5
}
