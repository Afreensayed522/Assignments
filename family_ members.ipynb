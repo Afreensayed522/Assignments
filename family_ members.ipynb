{
 "cells": [
  {
   "cell_type": "code",
   "execution_count": 1,
   "id": "cb53ffc8",
   "metadata": {},
   "outputs": [],
   "source": [
    "dictt={\"family member name\":\"mukharam pasha\",\"familymember age\":\"57\"}"
   ]
  },
  {
   "cell_type": "code",
   "execution_count": 2,
   "id": "9eb4a51b",
   "metadata": {},
   "outputs": [
    {
     "data": {
      "text/plain": [
       "{'family member name': 'mukharam pasha', 'familymember age': '57'}"
      ]
     },
     "execution_count": 2,
     "metadata": {},
     "output_type": "execute_result"
    }
   ],
   "source": [
    "dictt"
   ]
  },
  {
   "cell_type": "code",
   "execution_count": 3,
   "id": "367444e1",
   "metadata": {},
   "outputs": [],
   "source": [
    "dicct={\"family membername\":\"ameerunisa\",\"family member age\":\"45\"}"
   ]
  },
  {
   "cell_type": "code",
   "execution_count": 4,
   "id": "b5812f0e",
   "metadata": {},
   "outputs": [
    {
     "data": {
      "text/plain": [
       "{'family member name': 'mukharam pasha', 'familymember age': '57'}"
      ]
     },
     "execution_count": 4,
     "metadata": {},
     "output_type": "execute_result"
    }
   ],
   "source": [
    "dictt"
   ]
  },
  {
   "cell_type": "code",
   "execution_count": 5,
   "id": "78d7a71b",
   "metadata": {},
   "outputs": [],
   "source": [
    "dictt={\"family member name\":\"imran\",\"age\":\"24\"}"
   ]
  },
  {
   "cell_type": "code",
   "execution_count": 6,
   "id": "3fc73e4b",
   "metadata": {},
   "outputs": [
    {
     "data": {
      "text/plain": [
       "{'family member name': 'imran', 'age': '24'}"
      ]
     },
     "execution_count": 6,
     "metadata": {},
     "output_type": "execute_result"
    }
   ],
   "source": [
    "dictt"
   ]
  },
  {
   "cell_type": "code",
   "execution_count": 7,
   "id": "dcf73d5a",
   "metadata": {},
   "outputs": [],
   "source": [
    "dictt={\"family membername\":\"irfan\",\"age\":\"22\"}"
   ]
  },
  {
   "cell_type": "code",
   "execution_count": 8,
   "id": "37a30a54",
   "metadata": {},
   "outputs": [
    {
     "data": {
      "text/plain": [
       "{'family membername': 'irfan', 'age': '22'}"
      ]
     },
     "execution_count": 8,
     "metadata": {},
     "output_type": "execute_result"
    }
   ],
   "source": [
    "dictt"
   ]
  },
  {
   "cell_type": "code",
   "execution_count": 11,
   "id": "e233d415",
   "metadata": {},
   "outputs": [],
   "source": [
    "dictt={\"family member name\":\"khaleel\",\"age\":\"30\"}"
   ]
  },
  {
   "cell_type": "code",
   "execution_count": 12,
   "id": "9526ddaa",
   "metadata": {},
   "outputs": [
    {
     "data": {
      "text/plain": [
       "{'family member name': 'khaleel', 'age': '30'}"
      ]
     },
     "execution_count": 12,
     "metadata": {},
     "output_type": "execute_result"
    }
   ],
   "source": [
    "dictt"
   ]
  },
  {
   "cell_type": "code",
   "execution_count": 13,
   "id": "ea6da020",
   "metadata": {},
   "outputs": [],
   "source": [
    "dictt={\"family member name\":\"khadeer\",\"age\":\"29\"}"
   ]
  },
  {
   "cell_type": "code",
   "execution_count": 14,
   "id": "4074dfd9",
   "metadata": {},
   "outputs": [
    {
     "data": {
      "text/plain": [
       "{'family member name': 'khadeer', 'age': '29'}"
      ]
     },
     "execution_count": 14,
     "metadata": {},
     "output_type": "execute_result"
    }
   ],
   "source": [
    "dictt"
   ]
  },
  {
   "cell_type": "code",
   "execution_count": 15,
   "id": "f65d7bdc",
   "metadata": {},
   "outputs": [],
   "source": [
    "dictt={\"family member name\":\"javeed\",\"age\":\"26\"}"
   ]
  },
  {
   "cell_type": "code",
   "execution_count": 16,
   "id": "d589a398",
   "metadata": {},
   "outputs": [
    {
     "data": {
      "text/plain": [
       "{'family member name': 'javeed', 'age': '26'}"
      ]
     },
     "execution_count": 16,
     "metadata": {},
     "output_type": "execute_result"
    }
   ],
   "source": [
    "dictt"
   ]
  },
  {
   "cell_type": "code",
   "execution_count": 18,
   "id": "07d97a92",
   "metadata": {},
   "outputs": [],
   "source": [
    "dictt={\"family member name\":\"bari\",\"age\":\"67\"}"
   ]
  },
  {
   "cell_type": "code",
   "execution_count": 19,
   "id": "8fc36f45",
   "metadata": {},
   "outputs": [
    {
     "data": {
      "text/plain": [
       "{'family member name': 'bari', 'age': '67'}"
      ]
     },
     "execution_count": 19,
     "metadata": {},
     "output_type": "execute_result"
    }
   ],
   "source": [
    "dictt"
   ]
  },
  {
   "cell_type": "code",
   "execution_count": 20,
   "id": "1fdfbb5c",
   "metadata": {},
   "outputs": [],
   "source": [
    "dictt={\"family member name\":\"sharifunisa\",\"age\":\"45\"}"
   ]
  },
  {
   "cell_type": "code",
   "execution_count": 21,
   "id": "70de20f0",
   "metadata": {},
   "outputs": [
    {
     "data": {
      "text/plain": [
       "{'family member name': 'sharifunisa', 'age': '45'}"
      ]
     },
     "execution_count": 21,
     "metadata": {},
     "output_type": "execute_result"
    }
   ],
   "source": [
    "dictt"
   ]
  },
  {
   "cell_type": "code",
   "execution_count": 22,
   "id": "ea8f4400",
   "metadata": {},
   "outputs": [],
   "source": [
    "dictt={\"family member name\":\"fazeela\",\"age\":\"27\"}"
   ]
  },
  {
   "cell_type": "code",
   "execution_count": 23,
   "id": "f74594ee",
   "metadata": {},
   "outputs": [
    {
     "data": {
      "text/plain": [
       "{'family member name': 'fazeela', 'age': '27'}"
      ]
     },
     "execution_count": 23,
     "metadata": {},
     "output_type": "execute_result"
    }
   ],
   "source": [
    "dictt"
   ]
  },
  {
   "cell_type": "code",
   "execution_count": 24,
   "id": "af73b64a",
   "metadata": {},
   "outputs": [],
   "source": [
    "dictt={\"family member name\":\"norunisa\",\"age\":\"29\"}"
   ]
  },
  {
   "cell_type": "code",
   "execution_count": 25,
   "id": "b27e6d6e",
   "metadata": {},
   "outputs": [
    {
     "data": {
      "text/plain": [
       "{'family member name': 'norunisa', 'age': '29'}"
      ]
     },
     "execution_count": 25,
     "metadata": {},
     "output_type": "execute_result"
    }
   ],
   "source": [
    "dictt"
   ]
  },
  {
   "cell_type": "code",
   "execution_count": null,
   "id": "4008d182",
   "metadata": {},
   "outputs": [],
   "source": []
  },
  {
   "cell_type": "code",
   "execution_count": null,
   "id": "94807371",
   "metadata": {},
   "outputs": [],
   "source": []
  },
  {
   "cell_type": "code",
   "execution_count": null,
   "id": "affa9379",
   "metadata": {},
   "outputs": [],
   "source": []
  },
  {
   "cell_type": "code",
   "execution_count": null,
   "id": "4fff61c3",
   "metadata": {},
   "outputs": [],
   "source": []
  },
  {
   "cell_type": "code",
   "execution_count": null,
   "id": "7d824f9f",
   "metadata": {},
   "outputs": [],
   "source": []
  },
  {
   "cell_type": "code",
   "execution_count": null,
   "id": "869da4ee",
   "metadata": {},
   "outputs": [],
   "source": []
  },
  {
   "cell_type": "code",
   "execution_count": null,
   "id": "495aaf53",
   "metadata": {},
   "outputs": [],
   "source": []
  },
  {
   "cell_type": "code",
   "execution_count": null,
   "id": "a1c93e1b",
   "metadata": {},
   "outputs": [],
   "source": []
  },
  {
   "cell_type": "code",
   "execution_count": null,
   "id": "87025d1b",
   "metadata": {},
   "outputs": [],
   "source": []
  },
  {
   "cell_type": "code",
   "execution_count": null,
   "id": "7fd9589d",
   "metadata": {},
   "outputs": [],
   "source": []
  },
  {
   "cell_type": "code",
   "execution_count": null,
   "id": "5ecd902a",
   "metadata": {},
   "outputs": [],
   "source": []
  }
 ],
 "metadata": {
  "kernelspec": {
   "display_name": "Python 3 (ipykernel)",
   "language": "python",
   "name": "python3"
  },
  "language_info": {
   "codemirror_mode": {
    "name": "ipython",
    "version": 3
   },
   "file_extension": ".py",
   "mimetype": "text/x-python",
   "name": "python",
   "nbconvert_exporter": "python",
   "pygments_lexer": "ipython3",
   "version": "3.10.9"
  }
 },
 "nbformat": 4,
 "nbformat_minor": 5
}
