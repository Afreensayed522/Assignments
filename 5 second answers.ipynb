{
 "cells": [
  {
   "cell_type": "code",
   "execution_count": 16,
   "id": "769573ee",
   "metadata": {},
   "outputs": [
    {
     "name": "stdout",
     "output_type": "stream",
     "text": [
      "Who am i?\n",
      "you are teen_age\n"
     ]
    }
   ],
   "source": [
    "\n",
    "my_age=24\n",
    "print(\"Who am i?\")\n",
    "if my_age >20:\n",
    "    print(\"you are teen_age\")\n",
    "else:\n",
    "    print(\"you are young_age\")\n",
    "\n",
    "\n"
   ]
  },
  {
   "cell_type": "code",
   "execution_count": 1,
   "id": "068d3c5e",
   "metadata": {},
   "outputs": [
    {
     "name": "stdout",
     "output_type": "stream",
     "text": [
      "who am i?\n",
      "you are teen_age\n"
     ]
    }
   ],
   "source": [
    "my_age=34 \n",
    "print(\"who am i?\")\n",
    "if my_age >20:\n",
    "    print(\"you are teen_age\")\n",
    "else:\n",
    "    print(\"you are young_age\")\n",
    "\n",
    "\n",
    "\n"
   ]
  },
  {
   "cell_type": "code",
   "execution_count": 2,
   "id": "7580b052",
   "metadata": {},
   "outputs": [
    {
     "name": "stdout",
     "output_type": "stream",
     "text": [
      "who am i?\n",
      "you are young_age\n"
     ]
    }
   ],
   "source": [
    "my_age=10\n",
    "print(\"who am i?\")\n",
    "if my_age >20:\n",
    "    print(\"you are teen_age\")\n",
    "else:\n",
    "    print(\"you are young_age\")\n",
    "\n",
    "\n",
    "\n",
    "\n"
   ]
  },
  {
   "cell_type": "code",
   "execution_count": 3,
   "id": "daa21647",
   "metadata": {},
   "outputs": [
    {
     "name": "stdout",
     "output_type": "stream",
     "text": [
      "who am i?\n",
      "you are teen_age\n"
     ]
    }
   ],
   "source": [
    "my_age=40\n",
    "print(\"who am i?\")\n",
    "if my_age >20:\n",
    "    print(\"you are teen_age\")\n",
    "else:\n",
    "    print(\"you are young_age\")\n",
    "\n"
   ]
  },
  {
   "cell_type": "code",
   "execution_count": 27,
   "id": "cde9b8ce",
   "metadata": {},
   "outputs": [
    {
     "name": "stdout",
     "output_type": "stream",
     "text": [
      "sunday\n",
      "this is weekend\n"
     ]
    }
   ],
   "source": [
    "day=\"sunday\"\n",
    "print(day)\n",
    "if day==\"monday\":\n",
    "    print(\"this is weekday\")\n",
    "elif day==\"tuesday\":\n",
    "    print(\"this is weekday\")\n",
    "elif day==\"wednesday\":\n",
    "    print(\"this is weekday\")\n",
    "elif day==\"friday\":\n",
    "    print(\"this is weekday\")\n",
    "else:\n",
    "    print(\"this is weekend\")\n",
    "\n",
    "\n",
    "\n",
    "\n",
    "\n"
   ]
  },
  {
   "cell_type": "code",
   "execution_count": 34,
   "id": "3fb2b516",
   "metadata": {},
   "outputs": [
    {
     "name": "stdout",
     "output_type": "stream",
     "text": [
      "i lost\n"
     ]
    }
   ],
   "source": [
    "my_income=10\n",
    "if my_income >10:\n",
    "    print(\"i am profitable\")\n",
    "else:\n",
    "    print(\"i lost\")\n",
    "\n",
    "\n",
    "\n",
    "\n"
   ]
  },
  {
   "cell_type": "code",
   "execution_count": 30,
   "id": "712b3fdc",
   "metadata": {},
   "outputs": [
    {
     "name": "stdout",
     "output_type": "stream",
     "text": [
      "i am younger\n"
     ]
    }
   ],
   "source": [
    "my_age=20\n",
    "my_sister_age=25\n",
    "if my_age > my_sister_age:\n",
    "    print(\"i am elder\")\n",
    "else:\n",
    "    print(\"i am younger\")\n"
   ]
  },
  {
   "cell_type": "code",
   "execution_count": null,
   "id": "3d1c6e65",
   "metadata": {},
   "outputs": [],
   "source": []
  },
  {
   "cell_type": "code",
   "execution_count": 41,
   "id": "157eb573",
   "metadata": {},
   "outputs": [
    {
     "name": "stdout",
     "output_type": "stream",
     "text": [
      "final payable amount 140.0\n"
     ]
    }
   ],
   "source": [
    "amount=200\n",
    "if amount >100:\n",
    "    discount_amount=(amount*.30)\n",
    "    final_amount=(amount-discount_amount)\n",
    "    print(\"final payable amount\",final_amount)\n",
    "elif amount<50:\n",
    "    discount_amount=(amount*.10)\n",
    "    final_amont=(amount-discount_amount)\n",
    "    print(\"final payable amount\",final_amount)\n",
    "else:\n",
    "        discount_amount=(amount*.20)\n",
    "        final_amount=(amount-discount_amount)   \n",
    "        print(\"final payable amount\",final_amount)\n",
    "\n",
    "\n"
   ]
  },
  {
   "cell_type": "code",
   "execution_count": null,
   "id": "3f52a62d",
   "metadata": {},
   "outputs": [],
   "source": []
  },
  {
   "cell_type": "code",
   "execution_count": 11,
   "id": "4ceaa3f8",
   "metadata": {},
   "outputs": [
    {
     "name": "stdout",
     "output_type": "stream",
     "text": [
      "balcony\n"
     ]
    }
   ],
   "source": [
    "price=140\n",
    "if price==140:\n",
    "    print(\"balcony\")\n",
    "elif price==50:\n",
    "    print(\"chair\")\n",
    "elif price==100:\n",
    "    print(\"bench\")\n",
    "else:\n",
    "    print(\"not available\")\n",
    "\n",
    "\n",
    "\n",
    "\n",
    "\n"
   ]
  },
  {
   "cell_type": "code",
   "execution_count": null,
   "id": "0d7cbef5",
   "metadata": {},
   "outputs": [],
   "source": []
  },
  {
   "cell_type": "code",
   "execution_count": 16,
   "id": "1d50cf26",
   "metadata": {},
   "outputs": [
    {
     "name": "stdout",
     "output_type": "stream",
     "text": [
      "bike and scooty\n"
     ]
    }
   ],
   "source": [
    "vehicle_types=\"two_wheeler\"\n",
    "if vehicle_types==\"two_wheeler\":\n",
    "    print(\"bike and scooty\")\n",
    "elif vehicle_types==\"four_wheeler\":\n",
    "    print(\"car\",\"loory\",\"van and zeep\")\n",
    "else:\n",
    "    print(\"not available\")\n",
    "\n",
    "\n",
    "\n"
   ]
  },
  {
   "cell_type": "code",
   "execution_count": null,
   "id": "6e2ddd77",
   "metadata": {},
   "outputs": [],
   "source": []
  },
  {
   "cell_type": "code",
   "execution_count": null,
   "id": "b9505612",
   "metadata": {},
   "outputs": [],
   "source": []
  },
  {
   "cell_type": "code",
   "execution_count": null,
   "id": "8ddd0fe3",
   "metadata": {},
   "outputs": [],
   "source": []
  }
 ],
 "metadata": {
  "kernelspec": {
   "display_name": "Python 3 (ipykernel)",
   "language": "python",
   "name": "python3"
  },
  "language_info": {
   "codemirror_mode": {
    "name": "ipython",
    "version": 3
   },
   "file_extension": ".py",
   "mimetype": "text/x-python",
   "name": "python",
   "nbconvert_exporter": "python",
   "pygments_lexer": "ipython3",
   "version": "3.10.9"
  }
 },
 "nbformat": 4,
 "nbformat_minor": 5
}
