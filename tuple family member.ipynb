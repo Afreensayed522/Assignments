{
 "cells": [
  {
   "cell_type": "code",
   "execution_count": 3,
   "id": "0d9b3ce8",
   "metadata": {},
   "outputs": [],
   "source": [
    "tupe=(\"sayed mukharam pasha\")"
   ]
  },
  {
   "cell_type": "code",
   "execution_count": 4,
   "id": "92bedc27",
   "metadata": {},
   "outputs": [
    {
     "data": {
      "text/plain": [
       "'sayed mukharam pasha'"
      ]
     },
     "execution_count": 4,
     "metadata": {},
     "output_type": "execute_result"
    }
   ],
   "source": [
    "tupe"
   ]
  },
  {
   "cell_type": "code",
   "execution_count": 5,
   "id": "e269a868",
   "metadata": {},
   "outputs": [],
   "source": [
    "tupe=(\"sayed ameerunissa\")"
   ]
  },
  {
   "cell_type": "code",
   "execution_count": 6,
   "id": "0b05493b",
   "metadata": {},
   "outputs": [
    {
     "data": {
      "text/plain": [
       "'sayed ameerunissa'"
      ]
     },
     "execution_count": 6,
     "metadata": {},
     "output_type": "execute_result"
    }
   ],
   "source": [
    "tupe"
   ]
  },
  {
   "cell_type": "code",
   "execution_count": 7,
   "id": "36910172",
   "metadata": {},
   "outputs": [],
   "source": [
    "tupe=(\"sayed imran\")"
   ]
  },
  {
   "cell_type": "code",
   "execution_count": 8,
   "id": "d812751a",
   "metadata": {},
   "outputs": [
    {
     "data": {
      "text/plain": [
       "'sayed imran'"
      ]
     },
     "execution_count": 8,
     "metadata": {},
     "output_type": "execute_result"
    }
   ],
   "source": [
    "tupe"
   ]
  },
  {
   "cell_type": "code",
   "execution_count": 9,
   "id": "19293c2f",
   "metadata": {},
   "outputs": [],
   "source": [
    "tupe=(\"sayed irfan\")"
   ]
  },
  {
   "cell_type": "code",
   "execution_count": 10,
   "id": "f8b5a7d4",
   "metadata": {},
   "outputs": [
    {
     "data": {
      "text/plain": [
       "'sayed irfan'"
      ]
     },
     "execution_count": 10,
     "metadata": {},
     "output_type": "execute_result"
    }
   ],
   "source": [
    "tupe"
   ]
  },
  {
   "cell_type": "code",
   "execution_count": 11,
   "id": "a8533e40",
   "metadata": {},
   "outputs": [],
   "source": [
    "tupe=(\"sayed afreen\")"
   ]
  },
  {
   "cell_type": "code",
   "execution_count": 12,
   "id": "1d5009ce",
   "metadata": {},
   "outputs": [
    {
     "data": {
      "text/plain": [
       "'sayed afreen'"
      ]
     },
     "execution_count": 12,
     "metadata": {},
     "output_type": "execute_result"
    }
   ],
   "source": [
    "tupe"
   ]
  },
  {
   "cell_type": "code",
   "execution_count": null,
   "id": "cf2a065d",
   "metadata": {},
   "outputs": [],
   "source": []
  },
  {
   "cell_type": "code",
   "execution_count": null,
   "id": "2c3a2a4a",
   "metadata": {},
   "outputs": [],
   "source": []
  },
  {
   "cell_type": "code",
   "execution_count": null,
   "id": "1e11ea1b",
   "metadata": {},
   "outputs": [],
   "source": []
  },
  {
   "cell_type": "code",
   "execution_count": null,
   "id": "f3f4f72e",
   "metadata": {},
   "outputs": [],
   "source": []
  }
 ],
 "metadata": {
  "kernelspec": {
   "display_name": "Python 3 (ipykernel)",
   "language": "python",
   "name": "python3"
  },
  "language_info": {
   "codemirror_mode": {
    "name": "ipython",
    "version": 3
   },
   "file_extension": ".py",
   "mimetype": "text/x-python",
   "name": "python",
   "nbconvert_exporter": "python",
   "pygments_lexer": "ipython3",
   "version": "3.10.9"
  }
 },
 "nbformat": 4,
 "nbformat_minor": 5
}
