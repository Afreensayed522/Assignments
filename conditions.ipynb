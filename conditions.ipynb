{
 "cells": [
  {
   "cell_type": "code",
   "execution_count": 1,
   "id": "776045bf",
   "metadata": {},
   "outputs": [],
   "source": [
    "age=50"
   ]
  },
  {
   "cell_type": "code",
   "execution_count": 4,
   "id": "d56f1f51",
   "metadata": {},
   "outputs": [
    {
     "name": "stdout",
     "output_type": "stream",
     "text": [
      "my age is my age is already printed\n"
     ]
    }
   ],
   "source": [
    "print(\"my age is\", \"my age is already printed\")"
   ]
  },
  {
   "cell_type": "code",
   "execution_count": 6,
   "id": "38e24690",
   "metadata": {},
   "outputs": [],
   "source": [
    "sales=40"
   ]
  },
  {
   "cell_type": "code",
   "execution_count": null,
   "id": "8eff30ed",
   "metadata": {},
   "outputs": [],
   "source": [
    "if sales=>50:\n",
    "    print(\"weekend sales\")\n"
   ]
  },
  {
   "cell_type": "code",
   "execution_count": 26,
   "id": "ab77f82e",
   "metadata": {},
   "outputs": [],
   "source": [
    "sales=60"
   ]
  },
  {
   "cell_type": "code",
   "execution_count": 27,
   "id": "a99b6325",
   "metadata": {},
   "outputs": [
    {
     "name": "stdout",
     "output_type": "stream",
     "text": [
      "weekend  sales\n",
      "the weekend sales 60\n"
     ]
    }
   ],
   "source": [
    "if sales>50:\n",
    "    print(\"weekend  sales\")\n",
    "    print(\"the weekend sales\",sales)\n"
   ]
  },
  {
   "cell_type": "code",
   "execution_count": 28,
   "id": "f1d381b9",
   "metadata": {},
   "outputs": [
    {
     "name": "stdout",
     "output_type": "stream",
     "text": [
      "weekday sales\n"
     ]
    }
   ],
   "source": [
    "sales=40\n",
    "if sales>50:\n",
    "    print(\"weekend sales\")\n",
    "else:\n",
    "    print(\"weekday sales\")\n",
    "\n"
   ]
  },
  {
   "cell_type": "code",
   "execution_count": 29,
   "id": "799d76f1",
   "metadata": {},
   "outputs": [
    {
     "name": "stdout",
     "output_type": "stream",
     "text": [
      "weekend sales\n"
     ]
    }
   ],
   "source": [
    "sales=40\n",
    "if sales<50:\n",
    "    print(\"weekend sales\")\n",
    "else:\n",
    "    print(\"weekday sales\")"
   ]
  },
  {
   "cell_type": "code",
   "execution_count": 34,
   "id": "93b4854c",
   "metadata": {},
   "outputs": [],
   "source": [
    "sale=80"
   ]
  },
  {
   "cell_type": "code",
   "execution_count": 35,
   "id": "25e1e1be",
   "metadata": {},
   "outputs": [
    {
     "name": "stdout",
     "output_type": "stream",
     "text": [
      "met average sales\n"
     ]
    }
   ],
   "source": [
    "if sale<15:\n",
    "    print(\"not met average sales\")\n",
    "elif sale>=15or sale<=20:\n",
    "    print(\"met average sales\")\n",
    "else:\n",
    "    print(\"profit sales\")\n",
    "\n"
   ]
  },
  {
   "cell_type": "code",
   "execution_count": null,
   "id": "523e9224",
   "metadata": {},
   "outputs": [],
   "source": [
    "sales=80"
   ]
  },
  {
   "cell_type": "code",
   "execution_count": 36,
   "id": "9f2c68be",
   "metadata": {},
   "outputs": [
    {
     "name": "stdout",
     "output_type": "stream",
     "text": [
      "profit\n"
     ]
    }
   ],
   "source": [
    "if sale<15:\n",
    "    print(\"not met average sales\")\n",
    "elif sale>=15 and sale<=20:\n",
    "    print(\"met average sales\")\n",
    "else:\n",
    "    print(\"profit\")\n",
    "\n"
   ]
  },
  {
   "cell_type": "code",
   "execution_count": null,
   "id": "1f1c3a97",
   "metadata": {},
   "outputs": [],
   "source": []
  },
  {
   "cell_type": "code",
   "execution_count": 1,
   "id": "6157834c",
   "metadata": {},
   "outputs": [],
   "source": [
    "age=12"
   ]
  },
  {
   "cell_type": "code",
   "execution_count": null,
   "id": "955b6d44",
   "metadata": {},
   "outputs": [],
   "source": []
  },
  {
   "cell_type": "code",
   "execution_count": null,
   "id": "dbff03d2",
   "metadata": {},
   "outputs": [],
   "source": []
  },
  {
   "cell_type": "code",
   "execution_count": null,
   "id": "c42e5425",
   "metadata": {},
   "outputs": [],
   "source": []
  },
  {
   "cell_type": "code",
   "execution_count": null,
   "id": "977c9416",
   "metadata": {},
   "outputs": [],
   "source": []
  }
 ],
 "metadata": {
  "kernelspec": {
   "display_name": "Python 3 (ipykernel)",
   "language": "python",
   "name": "python3"
  },
  "language_info": {
   "codemirror_mode": {
    "name": "ipython",
    "version": 3
   },
   "file_extension": ".py",
   "mimetype": "text/x-python",
   "name": "python",
   "nbconvert_exporter": "python",
   "pygments_lexer": "ipython3",
   "version": "3.10.9"
  }
 },
 "nbformat": 4,
 "nbformat_minor": 5
}
