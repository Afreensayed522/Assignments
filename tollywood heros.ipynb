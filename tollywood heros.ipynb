{
 "cells": [
  {
   "cell_type": "code",
   "execution_count": 21,
   "id": "fdf3380b",
   "metadata": {},
   "outputs": [],
   "source": [
    "theros=[\"chiru\",\"balaya\",\"nag\",\"venky\",\"powerstar\",\"superstar\",\"ntr\",\"ramcharan\"]"
   ]
  },
  {
   "cell_type": "code",
   "execution_count": 5,
   "id": "99070025",
   "metadata": {},
   "outputs": [],
   "source": [
    "theros[0]=[\"chiranjeevi\"]"
   ]
  },
  {
   "cell_type": "code",
   "execution_count": 6,
   "id": "9de6921c",
   "metadata": {},
   "outputs": [
    {
     "data": {
      "text/plain": [
       "['chiranjeevi']"
      ]
     },
     "execution_count": 6,
     "metadata": {},
     "output_type": "execute_result"
    }
   ],
   "source": [
    "theros[0]"
   ]
  },
  {
   "cell_type": "code",
   "execution_count": 8,
   "id": "2e4c56f9",
   "metadata": {},
   "outputs": [],
   "source": [
    "theros[1]=[\"balakrishan\"]"
   ]
  },
  {
   "cell_type": "code",
   "execution_count": 9,
   "id": "ed57f21e",
   "metadata": {},
   "outputs": [
    {
     "data": {
      "text/plain": [
       "['balakrishan']"
      ]
     },
     "execution_count": 9,
     "metadata": {},
     "output_type": "execute_result"
    }
   ],
   "source": [
    "theros[1]"
   ]
  },
  {
   "cell_type": "code",
   "execution_count": 10,
   "id": "ce794c8c",
   "metadata": {},
   "outputs": [],
   "source": [
    "theros[2]=[\"nagarjuna\"]"
   ]
  },
  {
   "cell_type": "code",
   "execution_count": 11,
   "id": "d8998b54",
   "metadata": {},
   "outputs": [
    {
     "data": {
      "text/plain": [
       "['nagarjuna']"
      ]
     },
     "execution_count": 11,
     "metadata": {},
     "output_type": "execute_result"
    }
   ],
   "source": [
    "theros[2]"
   ]
  },
  {
   "cell_type": "code",
   "execution_count": 12,
   "id": "140024c5",
   "metadata": {},
   "outputs": [],
   "source": [
    "theros[3]=[\"venky\"]"
   ]
  },
  {
   "cell_type": "code",
   "execution_count": 13,
   "id": "ffe59279",
   "metadata": {},
   "outputs": [
    {
     "data": {
      "text/plain": [
       "['venky']"
      ]
     },
     "execution_count": 13,
     "metadata": {},
     "output_type": "execute_result"
    }
   ],
   "source": [
    "theros[3]"
   ]
  },
  {
   "cell_type": "code",
   "execution_count": 22,
   "id": "9701ae20",
   "metadata": {},
   "outputs": [
    {
     "data": {
      "text/plain": [
       "'powerstar'"
      ]
     },
     "execution_count": 22,
     "metadata": {},
     "output_type": "execute_result"
    }
   ],
   "source": [
    "theros[4]"
   ]
  },
  {
   "cell_type": "code",
   "execution_count": 23,
   "id": "b6b2b4a3",
   "metadata": {},
   "outputs": [],
   "source": [
    "theros[4]=[\"pawankalyan\"]"
   ]
  },
  {
   "cell_type": "code",
   "execution_count": 24,
   "id": "5910288d",
   "metadata": {},
   "outputs": [
    {
     "data": {
      "text/plain": [
       "['pawankalyan']"
      ]
     },
     "execution_count": 24,
     "metadata": {},
     "output_type": "execute_result"
    }
   ],
   "source": [
    "theros[4]"
   ]
  },
  {
   "cell_type": "code",
   "execution_count": 25,
   "id": "c8167914",
   "metadata": {},
   "outputs": [],
   "source": [
    "theros[5]=[\"maheshbabu\"]"
   ]
  },
  {
   "cell_type": "code",
   "execution_count": 26,
   "id": "e22db6f7",
   "metadata": {},
   "outputs": [
    {
     "data": {
      "text/plain": [
       "['maheshbabu']"
      ]
     },
     "execution_count": 26,
     "metadata": {},
     "output_type": "execute_result"
    }
   ],
   "source": [
    "theros[5]"
   ]
  },
  {
   "cell_type": "code",
   "execution_count": 27,
   "id": "de1bde6a",
   "metadata": {},
   "outputs": [],
   "source": [
    "theros[6]=[\"NT ramarao\"]"
   ]
  },
  {
   "cell_type": "code",
   "execution_count": 28,
   "id": "0be8e06b",
   "metadata": {},
   "outputs": [
    {
     "data": {
      "text/plain": [
       "['NT ramarao']"
      ]
     },
     "execution_count": 28,
     "metadata": {},
     "output_type": "execute_result"
    }
   ],
   "source": [
    "theros[6]"
   ]
  },
  {
   "cell_type": "code",
   "execution_count": 29,
   "id": "ee862ae3",
   "metadata": {},
   "outputs": [],
   "source": [
    "theros[7]=[\"ramcharan\"]"
   ]
  },
  {
   "cell_type": "code",
   "execution_count": 30,
   "id": "540fd0fb",
   "metadata": {},
   "outputs": [
    {
     "data": {
      "text/plain": [
       "['ramcharan']"
      ]
     },
     "execution_count": 30,
     "metadata": {},
     "output_type": "execute_result"
    }
   ],
   "source": [
    "theros[7]"
   ]
  },
  {
   "cell_type": "code",
   "execution_count": null,
   "id": "c7fd3347",
   "metadata": {},
   "outputs": [],
   "source": []
  },
  {
   "cell_type": "code",
   "execution_count": null,
   "id": "46ed8709",
   "metadata": {},
   "outputs": [],
   "source": []
  },
  {
   "cell_type": "code",
   "execution_count": null,
   "id": "a15dec0d",
   "metadata": {},
   "outputs": [],
   "source": []
  },
  {
   "cell_type": "code",
   "execution_count": null,
   "id": "81d22c89",
   "metadata": {},
   "outputs": [],
   "source": []
  },
  {
   "cell_type": "code",
   "execution_count": null,
   "id": "f650bc94",
   "metadata": {},
   "outputs": [],
   "source": []
  },
  {
   "cell_type": "code",
   "execution_count": null,
   "id": "bf2e9dca",
   "metadata": {},
   "outputs": [],
   "source": []
  },
  {
   "cell_type": "code",
   "execution_count": null,
   "id": "64891bce",
   "metadata": {},
   "outputs": [],
   "source": []
  }
 ],
 "metadata": {
  "kernelspec": {
   "display_name": "Python 3 (ipykernel)",
   "language": "python",
   "name": "python3"
  },
  "language_info": {
   "codemirror_mode": {
    "name": "ipython",
    "version": 3
   },
   "file_extension": ".py",
   "mimetype": "text/x-python",
   "name": "python",
   "nbconvert_exporter": "python",
   "pygments_lexer": "ipython3",
   "version": "3.10.9"
  }
 },
 "nbformat": 4,
 "nbformat_minor": 5
}
