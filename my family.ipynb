{
 "cells": [
  {
   "cell_type": "code",
   "execution_count": 13,
   "id": "30b3a8cb",
   "metadata": {},
   "outputs": [],
   "source": [
    "tuple=('sayyed ameerunisa')"
   ]
  },
  {
   "cell_type": "code",
   "execution_count": 14,
   "id": "5fc12a6c",
   "metadata": {},
   "outputs": [
    {
     "data": {
      "text/plain": [
       "'sayyed ameerunisa'"
      ]
     },
     "execution_count": 14,
     "metadata": {},
     "output_type": "execute_result"
    }
   ],
   "source": [
    "tuple"
   ]
  },
  {
   "cell_type": "code",
   "execution_count": 15,
   "id": "53fb118d",
   "metadata": {},
   "outputs": [],
   "source": [
    "tuple=('sayyed mukharam pasha')"
   ]
  },
  {
   "cell_type": "code",
   "execution_count": 16,
   "id": "fc174bda",
   "metadata": {},
   "outputs": [
    {
     "data": {
      "text/plain": [
       "'sayyed mukharam pasha'"
      ]
     },
     "execution_count": 16,
     "metadata": {},
     "output_type": "execute_result"
    }
   ],
   "source": [
    "tuple"
   ]
  },
  {
   "cell_type": "code",
   "execution_count": 17,
   "id": "e0fb498e",
   "metadata": {},
   "outputs": [],
   "source": [
    "tuple=('sayyed irfan')"
   ]
  },
  {
   "cell_type": "code",
   "execution_count": 18,
   "id": "005ca730",
   "metadata": {},
   "outputs": [
    {
     "data": {
      "text/plain": [
       "'sayyed irfan'"
      ]
     },
     "execution_count": 18,
     "metadata": {},
     "output_type": "execute_result"
    }
   ],
   "source": [
    "tuple"
   ]
  },
  {
   "cell_type": "code",
   "execution_count": 19,
   "id": "0eb56e11",
   "metadata": {},
   "outputs": [],
   "source": [
    "tuple=('sayyed imran')"
   ]
  },
  {
   "cell_type": "code",
   "execution_count": 20,
   "id": "5e72413b",
   "metadata": {},
   "outputs": [
    {
     "data": {
      "text/plain": [
       "'sayyed imran'"
      ]
     },
     "execution_count": 20,
     "metadata": {},
     "output_type": "execute_result"
    }
   ],
   "source": [
    "tuple"
   ]
  },
  {
   "cell_type": "code",
   "execution_count": 21,
   "id": "a9950ff5",
   "metadata": {},
   "outputs": [],
   "source": [
    "tuple=('sayyed afreen')"
   ]
  },
  {
   "cell_type": "code",
   "execution_count": 22,
   "id": "127eeca3",
   "metadata": {},
   "outputs": [
    {
     "data": {
      "text/plain": [
       "'sayyed afreen'"
      ]
     },
     "execution_count": 22,
     "metadata": {},
     "output_type": "execute_result"
    }
   ],
   "source": [
    "tuple"
   ]
  },
  {
   "cell_type": "code",
   "execution_count": null,
   "id": "ff2729d7",
   "metadata": {},
   "outputs": [],
   "source": []
  },
  {
   "cell_type": "code",
   "execution_count": null,
   "id": "8bc157ea",
   "metadata": {},
   "outputs": [],
   "source": []
  }
 ],
 "metadata": {
  "kernelspec": {
   "display_name": "Python 3 (ipykernel)",
   "language": "python",
   "name": "python3"
  },
  "language_info": {
   "codemirror_mode": {
    "name": "ipython",
    "version": 3
   },
   "file_extension": ".py",
   "mimetype": "text/x-python",
   "name": "python",
   "nbconvert_exporter": "python",
   "pygments_lexer": "ipython3",
   "version": "3.10.9"
  }
 },
 "nbformat": 4,
 "nbformat_minor": 5
}
