{
 "cells": [
  {
   "cell_type": "code",
   "execution_count": 8,
   "id": "cb53ffc8",
   "metadata": {},
   "outputs": [],
   "source": [
    "dictt={\"destination\":[\"mumbai\",\"paris\",\"shimla\",\"tokyao\",\"agra\",\"delhi\",\n",
    "                      \"jaipur\",\"delhi\",\"dubai\",\"rome\",\"2\",\"1\",\"5\",\"3\",\"7\",\"9\",\n",
    "                      \"4\",\"8\",\"6\",\"10\"]}\n",
    "                       \n",
    "                      \n",
    "                      "
   ]
  },
  {
   "cell_type": "code",
   "execution_count": 9,
   "id": "01940a2b",
   "metadata": {},
   "outputs": [
    {
     "data": {
      "text/plain": [
       "{'destination': ['mumbai',\n",
       "  'paris',\n",
       "  'shimla',\n",
       "  'tokyao',\n",
       "  'agra',\n",
       "  'delhi',\n",
       "  'jaipur',\n",
       "  'delhi',\n",
       "  'dubai',\n",
       "  'rome',\n",
       "  '2',\n",
       "  '1',\n",
       "  '5',\n",
       "  '3',\n",
       "  '7',\n",
       "  '9',\n",
       "  '4',\n",
       "  '8',\n",
       "  '6',\n",
       "  '10']}"
      ]
     },
     "execution_count": 9,
     "metadata": {},
     "output_type": "execute_result"
    }
   ],
   "source": [
    "dictt"
   ]
  },
  {
   "cell_type": "code",
   "execution_count": null,
   "id": "39362757",
   "metadata": {},
   "outputs": [],
   "source": []
  },
  {
   "cell_type": "code",
   "execution_count": null,
   "id": "fd7ea3ac",
   "metadata": {},
   "outputs": [],
   "source": []
  },
  {
   "cell_type": "code",
   "execution_count": null,
   "id": "9eb4a51b",
   "metadata": {},
   "outputs": [],
   "source": []
  },
  {
   "cell_type": "code",
   "execution_count": null,
   "id": "b5812f0e",
   "metadata": {},
   "outputs": [],
   "source": []
  },
  {
   "cell_type": "code",
   "execution_count": null,
   "id": "78d7a71b",
   "metadata": {},
   "outputs": [],
   "source": []
  },
  {
   "cell_type": "code",
   "execution_count": null,
   "id": "3fc73e4b",
   "metadata": {},
   "outputs": [],
   "source": []
  },
  {
   "cell_type": "code",
   "execution_count": null,
   "id": "c4569e5f",
   "metadata": {},
   "outputs": [],
   "source": []
  }
 ],
 "metadata": {
  "kernelspec": {
   "display_name": "Python 3 (ipykernel)",
   "language": "python",
   "name": "python3"
  },
  "language_info": {
   "codemirror_mode": {
    "name": "ipython",
    "version": 3
   },
   "file_extension": ".py",
   "mimetype": "text/x-python",
   "name": "python",
   "nbconvert_exporter": "python",
   "pygments_lexer": "ipython3",
   "version": "3.10.9"
  }
 },
 "nbformat": 4,
 "nbformat_minor": 5
}
