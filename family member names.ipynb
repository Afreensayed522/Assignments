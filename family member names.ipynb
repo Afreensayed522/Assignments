{
 "cells": [
  {
   "cell_type": "code",
   "execution_count": 1,
   "id": "043e3261",
   "metadata": {},
   "outputs": [],
   "source": [
    "var1='ameera begum'"
   ]
  },
  {
   "cell_type": "code",
   "execution_count": 2,
   "id": "4dd5ab40",
   "metadata": {},
   "outputs": [
    {
     "data": {
      "text/plain": [
       "'ameera begum'"
      ]
     },
     "execution_count": 2,
     "metadata": {},
     "output_type": "execute_result"
    }
   ],
   "source": [
    "var1"
   ]
  },
  {
   "cell_type": "code",
   "execution_count": 3,
   "id": "5ffe231a",
   "metadata": {},
   "outputs": [],
   "source": [
    "var2='pasha'"
   ]
  },
  {
   "cell_type": "code",
   "execution_count": 4,
   "id": "c6dbbe17",
   "metadata": {},
   "outputs": [
    {
     "data": {
      "text/plain": [
       "'pasha'"
      ]
     },
     "execution_count": 4,
     "metadata": {},
     "output_type": "execute_result"
    }
   ],
   "source": [
    "var2"
   ]
  },
  {
   "cell_type": "code",
   "execution_count": 5,
   "id": "6bb79dbb",
   "metadata": {},
   "outputs": [],
   "source": [
    "var3='imran'"
   ]
  },
  {
   "cell_type": "code",
   "execution_count": 6,
   "id": "24bbbe56",
   "metadata": {},
   "outputs": [
    {
     "data": {
      "text/plain": [
       "'imran'"
      ]
     },
     "execution_count": 6,
     "metadata": {},
     "output_type": "execute_result"
    }
   ],
   "source": [
    "var3"
   ]
  },
  {
   "cell_type": "code",
   "execution_count": 7,
   "id": "14a24604",
   "metadata": {},
   "outputs": [],
   "source": [
    "var4='irfan'"
   ]
  },
  {
   "cell_type": "code",
   "execution_count": 8,
   "id": "9ff49aa7",
   "metadata": {},
   "outputs": [
    {
     "data": {
      "text/plain": [
       "'irfan'"
      ]
     },
     "execution_count": 8,
     "metadata": {},
     "output_type": "execute_result"
    }
   ],
   "source": [
    "var4"
   ]
  },
  {
   "cell_type": "code",
   "execution_count": 9,
   "id": "07a1a455",
   "metadata": {},
   "outputs": [],
   "source": [
    "var5='khaleel'"
   ]
  },
  {
   "cell_type": "code",
   "execution_count": 10,
   "id": "651369dd",
   "metadata": {},
   "outputs": [
    {
     "data": {
      "text/plain": [
       "'khaleel'"
      ]
     },
     "execution_count": 10,
     "metadata": {},
     "output_type": "execute_result"
    }
   ],
   "source": [
    "var5"
   ]
  },
  {
   "cell_type": "code",
   "execution_count": 11,
   "id": "f4fece30",
   "metadata": {},
   "outputs": [],
   "source": [
    "var6='khadeer'"
   ]
  },
  {
   "cell_type": "code",
   "execution_count": 12,
   "id": "1158f959",
   "metadata": {},
   "outputs": [
    {
     "data": {
      "text/plain": [
       "'khadeer'"
      ]
     },
     "execution_count": 12,
     "metadata": {},
     "output_type": "execute_result"
    }
   ],
   "source": [
    "var6"
   ]
  },
  {
   "cell_type": "code",
   "execution_count": 13,
   "id": "8c89f0af",
   "metadata": {},
   "outputs": [],
   "source": [
    "var7='javeed'"
   ]
  },
  {
   "cell_type": "code",
   "execution_count": 14,
   "id": "494d13fe",
   "metadata": {},
   "outputs": [
    {
     "data": {
      "text/plain": [
       "'javeed'"
      ]
     },
     "execution_count": 14,
     "metadata": {},
     "output_type": "execute_result"
    }
   ],
   "source": [
    "var7"
   ]
  },
  {
   "cell_type": "code",
   "execution_count": 15,
   "id": "a53f1c68",
   "metadata": {},
   "outputs": [],
   "source": [
    "var8='neelofar'"
   ]
  },
  {
   "cell_type": "code",
   "execution_count": 16,
   "id": "56dfeb83",
   "metadata": {},
   "outputs": [
    {
     "data": {
      "text/plain": [
       "'neelofar'"
      ]
     },
     "execution_count": 16,
     "metadata": {},
     "output_type": "execute_result"
    }
   ],
   "source": [
    "var8"
   ]
  },
  {
   "cell_type": "code",
   "execution_count": 17,
   "id": "16ca2574",
   "metadata": {},
   "outputs": [],
   "source": [
    "var9='fazeela'"
   ]
  },
  {
   "cell_type": "code",
   "execution_count": 18,
   "id": "359218af",
   "metadata": {},
   "outputs": [
    {
     "data": {
      "text/plain": [
       "'fazeela'"
      ]
     },
     "execution_count": 18,
     "metadata": {},
     "output_type": "execute_result"
    }
   ],
   "source": [
    "var9"
   ]
  },
  {
   "cell_type": "code",
   "execution_count": 19,
   "id": "ed6e0b99",
   "metadata": {},
   "outputs": [],
   "source": [
    "var10='khaja'"
   ]
  },
  {
   "cell_type": "code",
   "execution_count": 20,
   "id": "8d3b8fcf",
   "metadata": {},
   "outputs": [
    {
     "data": {
      "text/plain": [
       "'khaja'"
      ]
     },
     "execution_count": 20,
     "metadata": {},
     "output_type": "execute_result"
    }
   ],
   "source": [
    "var10"
   ]
  },
  {
   "cell_type": "code",
   "execution_count": null,
   "id": "d5932c1d",
   "metadata": {},
   "outputs": [],
   "source": []
  },
  {
   "cell_type": "code",
   "execution_count": null,
   "id": "c945fc66",
   "metadata": {},
   "outputs": [],
   "source": []
  },
  {
   "cell_type": "code",
   "execution_count": null,
   "id": "9d3fb6f5",
   "metadata": {},
   "outputs": [],
   "source": []
  },
  {
   "cell_type": "code",
   "execution_count": null,
   "id": "c0836908",
   "metadata": {},
   "outputs": [],
   "source": []
  },
  {
   "cell_type": "code",
   "execution_count": null,
   "id": "8e5908c7",
   "metadata": {},
   "outputs": [],
   "source": []
  },
  {
   "cell_type": "code",
   "execution_count": null,
   "id": "377b6e2d",
   "metadata": {},
   "outputs": [],
   "source": []
  }
 ],
 "metadata": {
  "kernelspec": {
   "display_name": "Python 3 (ipykernel)",
   "language": "python",
   "name": "python3"
  },
  "language_info": {
   "codemirror_mode": {
    "name": "ipython",
    "version": 3
   },
   "file_extension": ".py",
   "mimetype": "text/x-python",
   "name": "python",
   "nbconvert_exporter": "python",
   "pygments_lexer": "ipython3",
   "version": "3.10.9"
  }
 },
 "nbformat": 4,
 "nbformat_minor": 5
}
