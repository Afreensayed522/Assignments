{
 "cells": [
  {
   "cell_type": "code",
   "execution_count": 1,
   "id": "327de2aa",
   "metadata": {},
   "outputs": [],
   "source": [
    "var1='ludo'"
   ]
  },
  {
   "cell_type": "code",
   "execution_count": 2,
   "id": "127fc3f6",
   "metadata": {},
   "outputs": [
    {
     "data": {
      "text/plain": [
       "'ludo'"
      ]
     },
     "execution_count": 2,
     "metadata": {},
     "output_type": "execute_result"
    }
   ],
   "source": [
    "var1"
   ]
  },
  {
   "cell_type": "code",
   "execution_count": 3,
   "id": "ba4a099a",
   "metadata": {},
   "outputs": [],
   "source": [
    "var2='carrom'"
   ]
  },
  {
   "cell_type": "code",
   "execution_count": 4,
   "id": "d307501f",
   "metadata": {},
   "outputs": [
    {
     "data": {
      "text/plain": [
       "'carrom'"
      ]
     },
     "execution_count": 4,
     "metadata": {},
     "output_type": "execute_result"
    }
   ],
   "source": [
    "var2"
   ]
  },
  {
   "cell_type": "code",
   "execution_count": 5,
   "id": "ab92a895",
   "metadata": {},
   "outputs": [],
   "source": [
    "var3='chess'"
   ]
  },
  {
   "cell_type": "code",
   "execution_count": 6,
   "id": "b92d003c",
   "metadata": {},
   "outputs": [
    {
     "data": {
      "text/plain": [
       "'chess'"
      ]
     },
     "execution_count": 6,
     "metadata": {},
     "output_type": "execute_result"
    }
   ],
   "source": [
    "var3"
   ]
  },
  {
   "cell_type": "code",
   "execution_count": 7,
   "id": "2ee269d9",
   "metadata": {},
   "outputs": [],
   "source": [
    "var4='football'"
   ]
  },
  {
   "cell_type": "code",
   "execution_count": 8,
   "id": "b1b96439",
   "metadata": {},
   "outputs": [
    {
     "data": {
      "text/plain": [
       "'football'"
      ]
     },
     "execution_count": 8,
     "metadata": {},
     "output_type": "execute_result"
    }
   ],
   "source": [
    "var4"
   ]
  },
  {
   "cell_type": "code",
   "execution_count": 9,
   "id": "01259032",
   "metadata": {},
   "outputs": [],
   "source": [
    "var5='kabaddi'"
   ]
  },
  {
   "cell_type": "code",
   "execution_count": 10,
   "id": "2e90d9fc",
   "metadata": {},
   "outputs": [
    {
     "data": {
      "text/plain": [
       "'kabaddi'"
      ]
     },
     "execution_count": 10,
     "metadata": {},
     "output_type": "execute_result"
    }
   ],
   "source": [
    "var5"
   ]
  },
  {
   "cell_type": "code",
   "execution_count": 11,
   "id": "c6928ef9",
   "metadata": {},
   "outputs": [],
   "source": [
    "var6='volly ball'"
   ]
  },
  {
   "cell_type": "code",
   "execution_count": 12,
   "id": "42ea660a",
   "metadata": {},
   "outputs": [
    {
     "data": {
      "text/plain": [
       "'volly ball'"
      ]
     },
     "execution_count": 12,
     "metadata": {},
     "output_type": "execute_result"
    }
   ],
   "source": [
    "var6"
   ]
  },
  {
   "cell_type": "code",
   "execution_count": 13,
   "id": "df959afb",
   "metadata": {},
   "outputs": [],
   "source": [
    "var7='hockey'"
   ]
  },
  {
   "cell_type": "code",
   "execution_count": 14,
   "id": "ee1f080d",
   "metadata": {},
   "outputs": [
    {
     "data": {
      "text/plain": [
       "'hockey'"
      ]
     },
     "execution_count": 14,
     "metadata": {},
     "output_type": "execute_result"
    }
   ],
   "source": [
    "var7"
   ]
  },
  {
   "cell_type": "code",
   "execution_count": 15,
   "id": "eae81ace",
   "metadata": {},
   "outputs": [],
   "source": [
    "var8='cards'"
   ]
  },
  {
   "cell_type": "code",
   "execution_count": 16,
   "id": "eec3ca92",
   "metadata": {},
   "outputs": [
    {
     "data": {
      "text/plain": [
       "'cards'"
      ]
     },
     "execution_count": 16,
     "metadata": {},
     "output_type": "execute_result"
    }
   ],
   "source": [
    "var8"
   ]
  },
  {
   "cell_type": "code",
   "execution_count": 17,
   "id": "1abc6593",
   "metadata": {},
   "outputs": [],
   "source": [
    "var9='table tennis'"
   ]
  },
  {
   "cell_type": "code",
   "execution_count": 18,
   "id": "4b3e034d",
   "metadata": {},
   "outputs": [
    {
     "data": {
      "text/plain": [
       "'table tennis'"
      ]
     },
     "execution_count": 18,
     "metadata": {},
     "output_type": "execute_result"
    }
   ],
   "source": [
    "var9"
   ]
  },
  {
   "cell_type": "code",
   "execution_count": 19,
   "id": "2b1dee46",
   "metadata": {},
   "outputs": [],
   "source": [
    "var10='cricket'"
   ]
  },
  {
   "cell_type": "code",
   "execution_count": 20,
   "id": "0e676923",
   "metadata": {},
   "outputs": [
    {
     "data": {
      "text/plain": [
       "'cricket'"
      ]
     },
     "execution_count": 20,
     "metadata": {},
     "output_type": "execute_result"
    }
   ],
   "source": [
    "var10"
   ]
  },
  {
   "cell_type": "code",
   "execution_count": null,
   "id": "3ba6acdd",
   "metadata": {},
   "outputs": [],
   "source": []
  },
  {
   "cell_type": "code",
   "execution_count": null,
   "id": "25a70aba",
   "metadata": {},
   "outputs": [],
   "source": []
  },
  {
   "cell_type": "code",
   "execution_count": null,
   "id": "6fb37dd6",
   "metadata": {},
   "outputs": [],
   "source": []
  },
  {
   "cell_type": "code",
   "execution_count": null,
   "id": "7bd5f79b",
   "metadata": {},
   "outputs": [],
   "source": []
  },
  {
   "cell_type": "code",
   "execution_count": null,
   "id": "772cadbb",
   "metadata": {},
   "outputs": [],
   "source": []
  },
  {
   "cell_type": "code",
   "execution_count": null,
   "id": "fe966069",
   "metadata": {},
   "outputs": [],
   "source": []
  },
  {
   "cell_type": "code",
   "execution_count": null,
   "id": "472fd970",
   "metadata": {},
   "outputs": [],
   "source": []
  },
  {
   "cell_type": "code",
   "execution_count": null,
   "id": "e66dd45c",
   "metadata": {},
   "outputs": [],
   "source": []
  },
  {
   "cell_type": "code",
   "execution_count": null,
   "id": "4213e4c6",
   "metadata": {},
   "outputs": [],
   "source": []
  },
  {
   "cell_type": "code",
   "execution_count": null,
   "id": "dda3d70c",
   "metadata": {},
   "outputs": [],
   "source": []
  },
  {
   "cell_type": "code",
   "execution_count": null,
   "id": "9b163282",
   "metadata": {},
   "outputs": [],
   "source": []
  },
  {
   "cell_type": "code",
   "execution_count": null,
   "id": "8d89e1e7",
   "metadata": {},
   "outputs": [],
   "source": []
  }
 ],
 "metadata": {
  "kernelspec": {
   "display_name": "Python 3 (ipykernel)",
   "language": "python",
   "name": "python3"
  },
  "language_info": {
   "codemirror_mode": {
    "name": "ipython",
    "version": 3
   },
   "file_extension": ".py",
   "mimetype": "text/x-python",
   "name": "python",
   "nbconvert_exporter": "python",
   "pygments_lexer": "ipython3",
   "version": "3.10.9"
  }
 },
 "nbformat": 4,
 "nbformat_minor": 5
}
