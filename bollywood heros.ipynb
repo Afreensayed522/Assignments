{
 "cells": [
  {
   "cell_type": "code",
   "execution_count": 8,
   "id": "deed6926",
   "metadata": {},
   "outputs": [],
   "source": [
    "set={\"sharukkhan\",\"salmankhan\",\"salmankhan\",\"amirkhan\",\"hritikroshan\",\"amitabh bachan\",\"akshaykumar\",\"amirkhan\"}"
   ]
  },
  {
   "cell_type": "code",
   "execution_count": 9,
   "id": "0425f2a2",
   "metadata": {},
   "outputs": [
    {
     "data": {
      "text/plain": [
       "{'akshaykumar',\n",
       " 'amirkhan',\n",
       " 'amitabh bachan',\n",
       " 'hritikroshan',\n",
       " 'salmankhan',\n",
       " 'sharukkhan'}"
      ]
     },
     "execution_count": 9,
     "metadata": {},
     "output_type": "execute_result"
    }
   ],
   "source": [
    "set"
   ]
  },
  {
   "cell_type": "code",
   "execution_count": null,
   "id": "7ae3f128",
   "metadata": {},
   "outputs": [],
   "source": []
  },
  {
   "cell_type": "code",
   "execution_count": null,
   "id": "b87318e8",
   "metadata": {},
   "outputs": [],
   "source": []
  },
  {
   "cell_type": "code",
   "execution_count": null,
   "id": "e80c0f07",
   "metadata": {},
   "outputs": [],
   "source": []
  },
  {
   "cell_type": "code",
   "execution_count": null,
   "id": "031f9947",
   "metadata": {},
   "outputs": [],
   "source": []
  }
 ],
 "metadata": {
  "kernelspec": {
   "display_name": "Python 3 (ipykernel)",
   "language": "python",
   "name": "python3"
  },
  "language_info": {
   "codemirror_mode": {
    "name": "ipython",
    "version": 3
   },
   "file_extension": ".py",
   "mimetype": "text/x-python",
   "name": "python",
   "nbconvert_exporter": "python",
   "pygments_lexer": "ipython3",
   "version": "3.10.9"
  }
 },
 "nbformat": 4,
 "nbformat_minor": 5
}
