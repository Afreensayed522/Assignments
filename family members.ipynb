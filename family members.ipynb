{
 "cells": [
  {
   "cell_type": "code",
   "execution_count": 1,
   "id": "cb53ffc8",
   "metadata": {},
   "outputs": [],
   "source": [
    "dictt={\"name\":\"mukharam pasha\",\"relation\":\"father\"}"
   ]
  },
  {
   "cell_type": "code",
   "execution_count": 2,
   "id": "01940a2b",
   "metadata": {},
   "outputs": [
    {
     "data": {
      "text/plain": [
       "{'name': 'mukharam pasha', 'relation': 'father'}"
      ]
     },
     "execution_count": 2,
     "metadata": {},
     "output_type": "execute_result"
    }
   ],
   "source": [
    "dictt"
   ]
  },
  {
   "cell_type": "code",
   "execution_count": 3,
   "id": "39362757",
   "metadata": {},
   "outputs": [],
   "source": [
    "dicct={\"name\":\"ameerunisa\",\"relation\":\"mother\"}"
   ]
  },
  {
   "cell_type": "code",
   "execution_count": 4,
   "id": "fd7ea3ac",
   "metadata": {},
   "outputs": [
    {
     "data": {
      "text/plain": [
       "{'name': 'mukharam pasha', 'relation': 'father'}"
      ]
     },
     "execution_count": 4,
     "metadata": {},
     "output_type": "execute_result"
    }
   ],
   "source": [
    "dictt"
   ]
  },
  {
   "cell_type": "code",
   "execution_count": 1,
   "id": "9eb4a51b",
   "metadata": {},
   "outputs": [],
   "source": [
    "dictt={\"name\":\"imran\",\"relation\":\"elder brother\"}"
   ]
  },
  {
   "cell_type": "code",
   "execution_count": 2,
   "id": "b5812f0e",
   "metadata": {},
   "outputs": [
    {
     "data": {
      "text/plain": [
       "{'name': 'imran', 'relation': 'elder brother'}"
      ]
     },
     "execution_count": 2,
     "metadata": {},
     "output_type": "execute_result"
    }
   ],
   "source": [
    "dictt"
   ]
  },
  {
   "cell_type": "code",
   "execution_count": 3,
   "id": "78d7a71b",
   "metadata": {},
   "outputs": [],
   "source": [
    "dictt={\"name\":\"irfan\",\"relation\":\"younger brother\"}"
   ]
  },
  {
   "cell_type": "code",
   "execution_count": 4,
   "id": "3fc73e4b",
   "metadata": {},
   "outputs": [
    {
     "data": {
      "text/plain": [
       "{'name': 'irfan', 'relation': 'younger brother'}"
      ]
     },
     "execution_count": 4,
     "metadata": {},
     "output_type": "execute_result"
    }
   ],
   "source": [
    "dictt"
   ]
  },
  {
   "cell_type": "code",
   "execution_count": null,
   "id": "c4569e5f",
   "metadata": {},
   "outputs": [],
   "source": []
  }
 ],
 "metadata": {
  "kernelspec": {
   "display_name": "Python 3 (ipykernel)",
   "language": "python",
   "name": "python3"
  },
  "language_info": {
   "codemirror_mode": {
    "name": "ipython",
    "version": 3
   },
   "file_extension": ".py",
   "mimetype": "text/x-python",
   "name": "python",
   "nbconvert_exporter": "python",
   "pygments_lexer": "ipython3",
   "version": "3.10.9"
  }
 },
 "nbformat": 4,
 "nbformat_minor": 5
}
