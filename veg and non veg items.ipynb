{
 "cells": [
  {
   "cell_type": "code",
   "execution_count": 7,
   "id": "cb53ffc8",
   "metadata": {},
   "outputs": [],
   "source": [
    "dictt={\"veg items\":[\"curd rice\",\"alu chat\",\"tamarind rice\",\"bhindi masla\",\"paneer\",\"rajma\",\"palak paneer\",\"pav bhaji\",\n",
    "        \"aloo gobi\",\"matter paneer\"],\"rating\":[\"56\",\"76\",\"76\",\"89\",\"90\",\"23\",\"51\",\"87\",\"80\",\"28\"]}            \n",
    "                    \n",
    "                "
   ]
  },
  {
   "cell_type": "code",
   "execution_count": 8,
   "id": "01940a2b",
   "metadata": {},
   "outputs": [
    {
     "data": {
      "text/plain": [
       "{'veg items': ['curd rice',\n",
       "  'alu chat',\n",
       "  'tamarind rice',\n",
       "  'bhindi masla',\n",
       "  'paneer',\n",
       "  'rajma',\n",
       "  'palak paneer',\n",
       "  'pav bhaji',\n",
       "  'aloo gobi',\n",
       "  'matter paneer'],\n",
       " 'rating': ['56', '76', '76', '89', '90', '23', '51', '87', '80', '28']}"
      ]
     },
     "execution_count": 8,
     "metadata": {},
     "output_type": "execute_result"
    }
   ],
   "source": [
    "dictt"
   ]
  },
  {
   "cell_type": "code",
   "execution_count": 3,
   "id": "39362757",
   "metadata": {},
   "outputs": [],
   "source": [
    "       dictt={\"nonveg_items\":[\"chicken\",\"motton\",\"fried rice\",\"egg puff\",\"fish\",\"piza\",\"pasta\",\"salad\",\"bread\",\"mama\"],\n",
    "                       \"rating\":[\"45\",\"34\",\"78\",\"97\",\"89\",\"76\",\"49\",\"32\",\"76\",\"72\"]}               \n",
    "\n",
    "                       \n",
    "                       "
   ]
  },
  {
   "cell_type": "code",
   "execution_count": 4,
   "id": "fd7ea3ac",
   "metadata": {},
   "outputs": [
    {
     "data": {
      "text/plain": [
       "{'nonveg_items': ['chicken',\n",
       "  'motton',\n",
       "  'fried rice',\n",
       "  'egg puff',\n",
       "  'fish',\n",
       "  'piza',\n",
       "  'pasta',\n",
       "  'salad',\n",
       "  'bread',\n",
       "  'mama'],\n",
       " 'rating': ['45', '34', '78', '97', '89', '76', '49', '32', '76', '72']}"
      ]
     },
     "execution_count": 4,
     "metadata": {},
     "output_type": "execute_result"
    }
   ],
   "source": [
    "dictt"
   ]
  },
  {
   "cell_type": "code",
   "execution_count": 1,
   "id": "9eb4a51b",
   "metadata": {},
   "outputs": [],
   "source": [
    "dictt={\"fooditem\":[\"pani puri\"],\"rating\":[\"20\"]}"
   ]
  },
  {
   "cell_type": "code",
   "execution_count": 2,
   "id": "b5812f0e",
   "metadata": {},
   "outputs": [
    {
     "data": {
      "text/plain": [
       "{'fooditem': ['pani puri'], 'rating': ['20']}"
      ]
     },
     "execution_count": 2,
     "metadata": {},
     "output_type": "execute_result"
    }
   ],
   "source": [
    "dictt"
   ]
  },
  {
   "cell_type": "code",
   "execution_count": null,
   "id": "78d7a71b",
   "metadata": {},
   "outputs": [],
   "source": []
  },
  {
   "cell_type": "code",
   "execution_count": null,
   "id": "3fc73e4b",
   "metadata": {},
   "outputs": [],
   "source": []
  },
  {
   "cell_type": "code",
   "execution_count": null,
   "id": "c4569e5f",
   "metadata": {},
   "outputs": [],
   "source": []
  },
  {
   "cell_type": "code",
   "execution_count": null,
   "id": "4af29b38",
   "metadata": {},
   "outputs": [],
   "source": []
  },
  {
   "cell_type": "code",
   "execution_count": null,
   "id": "e3940eca",
   "metadata": {},
   "outputs": [],
   "source": []
  },
  {
   "cell_type": "code",
   "execution_count": null,
   "id": "df7c3fcd",
   "metadata": {},
   "outputs": [],
   "source": []
  },
  {
   "cell_type": "code",
   "execution_count": null,
   "id": "4a63980e",
   "metadata": {},
   "outputs": [],
   "source": []
  }
 ],
 "metadata": {
  "kernelspec": {
   "display_name": "Python 3 (ipykernel)",
   "language": "python",
   "name": "python3"
  },
  "language_info": {
   "codemirror_mode": {
    "name": "ipython",
    "version": 3
   },
   "file_extension": ".py",
   "mimetype": "text/x-python",
   "name": "python",
   "nbconvert_exporter": "python",
   "pygments_lexer": "ipython3",
   "version": "3.10.9"
  }
 },
 "nbformat": 4,
 "nbformat_minor": 5
}
