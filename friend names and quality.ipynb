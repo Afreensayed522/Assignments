{
 "cells": [
  {
   "cell_type": "code",
   "execution_count": 1,
   "id": "39362757",
   "metadata": {},
   "outputs": [],
   "source": [
    "dictt={\"friend_names\":[\"chandu\",\"sindhu\",\"teja\",\"vasu\"],\"quality\":[\"funny\",\"anger\",\"funny\",\"sensitive\"]}"
   ]
  },
  {
   "cell_type": "code",
   "execution_count": 2,
   "id": "aa97ba62",
   "metadata": {},
   "outputs": [
    {
     "data": {
      "text/plain": [
       "{'friend_names': ['chandu', 'sindhu', 'teja', 'vasu'],\n",
       " 'quality': ['funny', 'anger', 'funny', 'sensitive']}"
      ]
     },
     "execution_count": 2,
     "metadata": {},
     "output_type": "execute_result"
    }
   ],
   "source": [
    "dictt"
   ]
  },
  {
   "cell_type": "code",
   "execution_count": 3,
   "id": "c503f2d8",
   "metadata": {},
   "outputs": [],
   "source": [
    "dictt={\"intelligent friend_name\":[\"chandu\"]}"
   ]
  },
  {
   "cell_type": "code",
   "execution_count": 4,
   "id": "57f34725",
   "metadata": {},
   "outputs": [
    {
     "data": {
      "text/plain": [
       "{'intelligent friend_name': ['chandu']}"
      ]
     },
     "execution_count": 4,
     "metadata": {},
     "output_type": "execute_result"
    }
   ],
   "source": [
    "dictt"
   ]
  },
  {
   "cell_type": "code",
   "execution_count": 7,
   "id": "655545c5",
   "metadata": {},
   "outputs": [],
   "source": [
    "dictt={\"best friend_name\":[\"vasu\"]}"
   ]
  },
  {
   "cell_type": "code",
   "execution_count": 8,
   "id": "68c42895",
   "metadata": {},
   "outputs": [
    {
     "data": {
      "text/plain": [
       "{'best friend_name': ['vasu']}"
      ]
     },
     "execution_count": 8,
     "metadata": {},
     "output_type": "execute_result"
    }
   ],
   "source": [
    "dictt"
   ]
  },
  {
   "cell_type": "code",
   "execution_count": null,
   "id": "f9f82956",
   "metadata": {},
   "outputs": [],
   "source": []
  },
  {
   "cell_type": "code",
   "execution_count": null,
   "id": "fd7ea3ac",
   "metadata": {},
   "outputs": [],
   "source": []
  },
  {
   "cell_type": "code",
   "execution_count": null,
   "id": "9eb4a51b",
   "metadata": {},
   "outputs": [],
   "source": []
  },
  {
   "cell_type": "code",
   "execution_count": null,
   "id": "b5812f0e",
   "metadata": {},
   "outputs": [],
   "source": []
  },
  {
   "cell_type": "code",
   "execution_count": null,
   "id": "78d7a71b",
   "metadata": {},
   "outputs": [],
   "source": []
  },
  {
   "cell_type": "code",
   "execution_count": null,
   "id": "3fc73e4b",
   "metadata": {},
   "outputs": [],
   "source": []
  },
  {
   "cell_type": "code",
   "execution_count": null,
   "id": "c4569e5f",
   "metadata": {},
   "outputs": [],
   "source": []
  }
 ],
 "metadata": {
  "kernelspec": {
   "display_name": "Python 3 (ipykernel)",
   "language": "python",
   "name": "python3"
  },
  "language_info": {
   "codemirror_mode": {
    "name": "ipython",
    "version": 3
   },
   "file_extension": ".py",
   "mimetype": "text/x-python",
   "name": "python",
   "nbconvert_exporter": "python",
   "pygments_lexer": "ipython3",
   "version": "3.10.9"
  }
 },
 "nbformat": 4,
 "nbformat_minor": 5
}
