{
 "cells": [
  {
   "cell_type": "code",
   "execution_count": 1,
   "id": "cbd82e9f",
   "metadata": {},
   "outputs": [],
   "source": [
    "string1='blue'"
   ]
  },
  {
   "cell_type": "code",
   "execution_count": 2,
   "id": "d5d39d73",
   "metadata": {},
   "outputs": [
    {
     "data": {
      "text/plain": [
       "'blue'"
      ]
     },
     "execution_count": 2,
     "metadata": {},
     "output_type": "execute_result"
    }
   ],
   "source": [
    "string1"
   ]
  },
  {
   "cell_type": "code",
   "execution_count": 4,
   "id": "4ae52836",
   "metadata": {},
   "outputs": [],
   "source": [
    "string2='green'"
   ]
  },
  {
   "cell_type": "code",
   "execution_count": 5,
   "id": "36a85da6",
   "metadata": {},
   "outputs": [
    {
     "data": {
      "text/plain": [
       "'green'"
      ]
     },
     "execution_count": 5,
     "metadata": {},
     "output_type": "execute_result"
    }
   ],
   "source": [
    "string2"
   ]
  },
  {
   "cell_type": "code",
   "execution_count": 6,
   "id": "73f6e43e",
   "metadata": {},
   "outputs": [],
   "source": [
    "string3='orange'"
   ]
  },
  {
   "cell_type": "code",
   "execution_count": 7,
   "id": "0b906cb0",
   "metadata": {},
   "outputs": [
    {
     "data": {
      "text/plain": [
       "'orange'"
      ]
     },
     "execution_count": 7,
     "metadata": {},
     "output_type": "execute_result"
    }
   ],
   "source": [
    "string3"
   ]
  },
  {
   "cell_type": "code",
   "execution_count": 8,
   "id": "9395fb1b",
   "metadata": {},
   "outputs": [],
   "source": [
    "string4='yellow'"
   ]
  },
  {
   "cell_type": "code",
   "execution_count": 9,
   "id": "555c8419",
   "metadata": {},
   "outputs": [
    {
     "data": {
      "text/plain": [
       "'yellow'"
      ]
     },
     "execution_count": 9,
     "metadata": {},
     "output_type": "execute_result"
    }
   ],
   "source": [
    "string4"
   ]
  },
  {
   "cell_type": "code",
   "execution_count": 10,
   "id": "25cab057",
   "metadata": {},
   "outputs": [],
   "source": [
    "string5='purple'"
   ]
  },
  {
   "cell_type": "code",
   "execution_count": 11,
   "id": "56757c0c",
   "metadata": {},
   "outputs": [
    {
     "data": {
      "text/plain": [
       "'purple'"
      ]
     },
     "execution_count": 11,
     "metadata": {},
     "output_type": "execute_result"
    }
   ],
   "source": [
    "string5"
   ]
  },
  {
   "cell_type": "code",
   "execution_count": 12,
   "id": "260dd4b2",
   "metadata": {},
   "outputs": [],
   "source": [
    "string6='maroon'"
   ]
  },
  {
   "cell_type": "code",
   "execution_count": 13,
   "id": "7e33df6d",
   "metadata": {},
   "outputs": [
    {
     "data": {
      "text/plain": [
       "'maroon'"
      ]
     },
     "execution_count": 13,
     "metadata": {},
     "output_type": "execute_result"
    }
   ],
   "source": [
    "string6"
   ]
  },
  {
   "cell_type": "code",
   "execution_count": 14,
   "id": "0a6d6f73",
   "metadata": {},
   "outputs": [],
   "source": [
    "string7='pink'"
   ]
  },
  {
   "cell_type": "code",
   "execution_count": 15,
   "id": "3b7dfe47",
   "metadata": {},
   "outputs": [
    {
     "data": {
      "text/plain": [
       "'pink'"
      ]
     },
     "execution_count": 15,
     "metadata": {},
     "output_type": "execute_result"
    }
   ],
   "source": [
    "string7"
   ]
  },
  {
   "cell_type": "code",
   "execution_count": 16,
   "id": "50ace9bd",
   "metadata": {},
   "outputs": [],
   "source": [
    "string8='black'"
   ]
  },
  {
   "cell_type": "code",
   "execution_count": 17,
   "id": "5e9adf10",
   "metadata": {},
   "outputs": [
    {
     "data": {
      "text/plain": [
       "'black'"
      ]
     },
     "execution_count": 17,
     "metadata": {},
     "output_type": "execute_result"
    }
   ],
   "source": [
    "string8"
   ]
  },
  {
   "cell_type": "code",
   "execution_count": 18,
   "id": "e034d984",
   "metadata": {},
   "outputs": [],
   "source": [
    "string9='brown'"
   ]
  },
  {
   "cell_type": "code",
   "execution_count": 19,
   "id": "003d2cee",
   "metadata": {},
   "outputs": [
    {
     "data": {
      "text/plain": [
       "'brown'"
      ]
     },
     "execution_count": 19,
     "metadata": {},
     "output_type": "execute_result"
    }
   ],
   "source": [
    "string9"
   ]
  },
  {
   "cell_type": "code",
   "execution_count": 21,
   "id": "52ea1ff1",
   "metadata": {},
   "outputs": [],
   "source": [
    "string10='gray'"
   ]
  },
  {
   "cell_type": "code",
   "execution_count": 22,
   "id": "41d6ec1e",
   "metadata": {},
   "outputs": [
    {
     "data": {
      "text/plain": [
       "'gray'"
      ]
     },
     "execution_count": 22,
     "metadata": {},
     "output_type": "execute_result"
    }
   ],
   "source": [
    "string10"
   ]
  },
  {
   "cell_type": "code",
   "execution_count": null,
   "id": "a7c53c1e",
   "metadata": {},
   "outputs": [],
   "source": []
  },
  {
   "cell_type": "code",
   "execution_count": null,
   "id": "70742bde",
   "metadata": {},
   "outputs": [],
   "source": []
  },
  {
   "cell_type": "code",
   "execution_count": null,
   "id": "9263a303",
   "metadata": {},
   "outputs": [],
   "source": []
  },
  {
   "cell_type": "code",
   "execution_count": null,
   "id": "25de3657",
   "metadata": {},
   "outputs": [],
   "source": []
  }
 ],
 "metadata": {
  "kernelspec": {
   "display_name": "Python 3 (ipykernel)",
   "language": "python",
   "name": "python3"
  },
  "language_info": {
   "codemirror_mode": {
    "name": "ipython",
    "version": 3
   },
   "file_extension": ".py",
   "mimetype": "text/x-python",
   "name": "python",
   "nbconvert_exporter": "python",
   "pygments_lexer": "ipython3",
   "version": "3.10.9"
  }
 },
 "nbformat": 4,
 "nbformat_minor": 5
}
