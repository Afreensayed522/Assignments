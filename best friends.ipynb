{
 "cells": [
  {
   "cell_type": "code",
   "execution_count": 8,
   "id": "aed9f418",
   "metadata": {},
   "outputs": [],
   "source": [
    "friend=['vasanthi','chandu','neelofar','sindhu priya','supriya','ayesha','kaushalya','rani','ferdose','irfan']"
   ]
  },
  {
   "cell_type": "code",
   "execution_count": 9,
   "id": "cebf1c8a",
   "metadata": {},
   "outputs": [
    {
     "data": {
      "text/plain": [
       "['vasanthi',\n",
       " 'chandu',\n",
       " 'neelofar',\n",
       " 'sindhu priya',\n",
       " 'supriya',\n",
       " 'ayesha',\n",
       " 'kaushalya',\n",
       " 'rani',\n",
       " 'ferdose',\n",
       " 'irfan']"
      ]
     },
     "execution_count": 9,
     "metadata": {},
     "output_type": "execute_result"
    }
   ],
   "source": [
    "friend"
   ]
  },
  {
   "cell_type": "code",
   "execution_count": null,
   "id": "8eb45e7c",
   "metadata": {},
   "outputs": [],
   "source": []
  },
  {
   "cell_type": "code",
   "execution_count": null,
   "id": "68844d30",
   "metadata": {},
   "outputs": [],
   "source": []
  },
  {
   "cell_type": "code",
   "execution_count": null,
   "id": "5493671d",
   "metadata": {},
   "outputs": [],
   "source": []
  },
  {
   "cell_type": "code",
   "execution_count": null,
   "id": "8ae4d1df",
   "metadata": {},
   "outputs": [],
   "source": []
  },
  {
   "cell_type": "code",
   "execution_count": null,
   "id": "6be2a52e",
   "metadata": {},
   "outputs": [],
   "source": []
  },
  {
   "cell_type": "code",
   "execution_count": null,
   "id": "bf6ce50b",
   "metadata": {},
   "outputs": [],
   "source": []
  }
 ],
 "metadata": {
  "kernelspec": {
   "display_name": "Python 3 (ipykernel)",
   "language": "python",
   "name": "python3"
  },
  "language_info": {
   "codemirror_mode": {
    "name": "ipython",
    "version": 3
   },
   "file_extension": ".py",
   "mimetype": "text/x-python",
   "name": "python",
   "nbconvert_exporter": "python",
   "pygments_lexer": "ipython3",
   "version": "3.10.9"
  }
 },
 "nbformat": 4,
 "nbformat_minor": 5
}
