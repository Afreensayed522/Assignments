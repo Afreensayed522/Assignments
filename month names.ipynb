{
 "cells": [
  {
   "cell_type": "code",
   "execution_count": 1,
   "id": "679a7712",
   "metadata": {},
   "outputs": [],
   "source": [
    "var1='january'"
   ]
  },
  {
   "cell_type": "code",
   "execution_count": 2,
   "id": "22d85293",
   "metadata": {},
   "outputs": [
    {
     "data": {
      "text/plain": [
       "'january'"
      ]
     },
     "execution_count": 2,
     "metadata": {},
     "output_type": "execute_result"
    }
   ],
   "source": [
    "var1"
   ]
  },
  {
   "cell_type": "code",
   "execution_count": 3,
   "id": "e5405d8e",
   "metadata": {},
   "outputs": [],
   "source": [
    "var2='february'"
   ]
  },
  {
   "cell_type": "code",
   "execution_count": 5,
   "id": "23f4b74c",
   "metadata": {},
   "outputs": [
    {
     "data": {
      "text/plain": [
       "'february'"
      ]
     },
     "execution_count": 5,
     "metadata": {},
     "output_type": "execute_result"
    }
   ],
   "source": [
    "var2"
   ]
  },
  {
   "cell_type": "code",
   "execution_count": 6,
   "id": "e61e5dba",
   "metadata": {},
   "outputs": [],
   "source": [
    "var3='march'"
   ]
  },
  {
   "cell_type": "code",
   "execution_count": 7,
   "id": "6d717f76",
   "metadata": {},
   "outputs": [
    {
     "data": {
      "text/plain": [
       "'march'"
      ]
     },
     "execution_count": 7,
     "metadata": {},
     "output_type": "execute_result"
    }
   ],
   "source": [
    "var3"
   ]
  },
  {
   "cell_type": "code",
   "execution_count": 10,
   "id": "1a6b5838",
   "metadata": {},
   "outputs": [],
   "source": [
    "var4='april'"
   ]
  },
  {
   "cell_type": "code",
   "execution_count": 11,
   "id": "a568986a",
   "metadata": {},
   "outputs": [
    {
     "data": {
      "text/plain": [
       "'april'"
      ]
     },
     "execution_count": 11,
     "metadata": {},
     "output_type": "execute_result"
    }
   ],
   "source": [
    "var4"
   ]
  },
  {
   "cell_type": "code",
   "execution_count": 12,
   "id": "3abd749d",
   "metadata": {},
   "outputs": [],
   "source": [
    "var5='may'"
   ]
  },
  {
   "cell_type": "code",
   "execution_count": 13,
   "id": "c6922a2f",
   "metadata": {},
   "outputs": [
    {
     "data": {
      "text/plain": [
       "'may'"
      ]
     },
     "execution_count": 13,
     "metadata": {},
     "output_type": "execute_result"
    }
   ],
   "source": [
    "var5"
   ]
  },
  {
   "cell_type": "code",
   "execution_count": 14,
   "id": "90bb6f56",
   "metadata": {},
   "outputs": [],
   "source": [
    "var6='june'"
   ]
  },
  {
   "cell_type": "code",
   "execution_count": 15,
   "id": "55f6f186",
   "metadata": {},
   "outputs": [
    {
     "data": {
      "text/plain": [
       "'june'"
      ]
     },
     "execution_count": 15,
     "metadata": {},
     "output_type": "execute_result"
    }
   ],
   "source": [
    "var6"
   ]
  },
  {
   "cell_type": "code",
   "execution_count": 17,
   "id": "dc5d377b",
   "metadata": {},
   "outputs": [],
   "source": [
    "var7='july'"
   ]
  },
  {
   "cell_type": "code",
   "execution_count": 18,
   "id": "a2625879",
   "metadata": {},
   "outputs": [
    {
     "data": {
      "text/plain": [
       "'july'"
      ]
     },
     "execution_count": 18,
     "metadata": {},
     "output_type": "execute_result"
    }
   ],
   "source": [
    "var7"
   ]
  },
  {
   "cell_type": "code",
   "execution_count": 19,
   "id": "93b3f81c",
   "metadata": {},
   "outputs": [],
   "source": [
    "var8='august'"
   ]
  },
  {
   "cell_type": "code",
   "execution_count": 20,
   "id": "bdbca258",
   "metadata": {},
   "outputs": [
    {
     "data": {
      "text/plain": [
       "'august'"
      ]
     },
     "execution_count": 20,
     "metadata": {},
     "output_type": "execute_result"
    }
   ],
   "source": [
    "var8"
   ]
  },
  {
   "cell_type": "code",
   "execution_count": 21,
   "id": "be13ee29",
   "metadata": {},
   "outputs": [],
   "source": [
    "var9='september'"
   ]
  },
  {
   "cell_type": "code",
   "execution_count": 22,
   "id": "c2ed0b69",
   "metadata": {},
   "outputs": [
    {
     "data": {
      "text/plain": [
       "'september'"
      ]
     },
     "execution_count": 22,
     "metadata": {},
     "output_type": "execute_result"
    }
   ],
   "source": [
    "var9"
   ]
  },
  {
   "cell_type": "code",
   "execution_count": 23,
   "id": "ce6a5c88",
   "metadata": {},
   "outputs": [],
   "source": [
    "var10='october'"
   ]
  },
  {
   "cell_type": "code",
   "execution_count": 24,
   "id": "3a55952c",
   "metadata": {},
   "outputs": [
    {
     "data": {
      "text/plain": [
       "'october'"
      ]
     },
     "execution_count": 24,
     "metadata": {},
     "output_type": "execute_result"
    }
   ],
   "source": [
    "var10"
   ]
  },
  {
   "cell_type": "code",
   "execution_count": 25,
   "id": "7a047e70",
   "metadata": {},
   "outputs": [],
   "source": [
    "var11='november'"
   ]
  },
  {
   "cell_type": "code",
   "execution_count": 26,
   "id": "fb571d5d",
   "metadata": {},
   "outputs": [
    {
     "data": {
      "text/plain": [
       "'november'"
      ]
     },
     "execution_count": 26,
     "metadata": {},
     "output_type": "execute_result"
    }
   ],
   "source": [
    "var11"
   ]
  },
  {
   "cell_type": "code",
   "execution_count": 27,
   "id": "45c938e4",
   "metadata": {},
   "outputs": [],
   "source": [
    "var12='december'"
   ]
  },
  {
   "cell_type": "code",
   "execution_count": 28,
   "id": "374c2067",
   "metadata": {},
   "outputs": [
    {
     "data": {
      "text/plain": [
       "'december'"
      ]
     },
     "execution_count": 28,
     "metadata": {},
     "output_type": "execute_result"
    }
   ],
   "source": [
    "var12"
   ]
  },
  {
   "cell_type": "code",
   "execution_count": null,
   "id": "c6137080",
   "metadata": {},
   "outputs": [],
   "source": []
  },
  {
   "cell_type": "code",
   "execution_count": null,
   "id": "5ef95c9f",
   "metadata": {},
   "outputs": [],
   "source": []
  },
  {
   "cell_type": "code",
   "execution_count": null,
   "id": "d691fdb5",
   "metadata": {},
   "outputs": [],
   "source": []
  },
  {
   "cell_type": "code",
   "execution_count": null,
   "id": "47514909",
   "metadata": {},
   "outputs": [],
   "source": []
  },
  {
   "cell_type": "code",
   "execution_count": null,
   "id": "ee93572d",
   "metadata": {},
   "outputs": [],
   "source": []
  },
  {
   "cell_type": "code",
   "execution_count": null,
   "id": "4a36e5f4",
   "metadata": {},
   "outputs": [],
   "source": []
  }
 ],
 "metadata": {
  "kernelspec": {
   "display_name": "Python 3 (ipykernel)",
   "language": "python",
   "name": "python3"
  },
  "language_info": {
   "codemirror_mode": {
    "name": "ipython",
    "version": 3
   },
   "file_extension": ".py",
   "mimetype": "text/x-python",
   "name": "python",
   "nbconvert_exporter": "python",
   "pygments_lexer": "ipython3",
   "version": "3.10.9"
  }
 },
 "nbformat": 4,
 "nbformat_minor": 5
}
