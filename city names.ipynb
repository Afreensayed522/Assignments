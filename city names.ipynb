{
 "cells": [
  {
   "cell_type": "code",
   "execution_count": 1,
   "id": "5e511d9c",
   "metadata": {},
   "outputs": [],
   "source": [
    "var1='hubli'"
   ]
  },
  {
   "cell_type": "code",
   "execution_count": 2,
   "id": "98e78f17",
   "metadata": {},
   "outputs": [
    {
     "data": {
      "text/plain": [
       "'hubli'"
      ]
     },
     "execution_count": 2,
     "metadata": {},
     "output_type": "execute_result"
    }
   ],
   "source": [
    "var1"
   ]
  },
  {
   "cell_type": "code",
   "execution_count": 3,
   "id": "367ee50c",
   "metadata": {},
   "outputs": [],
   "source": [
    "var2='belgaum'"
   ]
  },
  {
   "cell_type": "code",
   "execution_count": 4,
   "id": "85b060db",
   "metadata": {},
   "outputs": [
    {
     "data": {
      "text/plain": [
       "'belgaum'"
      ]
     },
     "execution_count": 4,
     "metadata": {},
     "output_type": "execute_result"
    }
   ],
   "source": [
    "var2"
   ]
  },
  {
   "cell_type": "code",
   "execution_count": 5,
   "id": "a4bd9338",
   "metadata": {},
   "outputs": [],
   "source": [
    "var3='bengaluru'"
   ]
  },
  {
   "cell_type": "code",
   "execution_count": 6,
   "id": "59c71824",
   "metadata": {},
   "outputs": [
    {
     "data": {
      "text/plain": [
       "'bengaluru'"
      ]
     },
     "execution_count": 6,
     "metadata": {},
     "output_type": "execute_result"
    }
   ],
   "source": [
    "var3"
   ]
  },
  {
   "cell_type": "code",
   "execution_count": 7,
   "id": "253b260c",
   "metadata": {},
   "outputs": [],
   "source": [
    "var4='ballari'"
   ]
  },
  {
   "cell_type": "code",
   "execution_count": 8,
   "id": "75b102b9",
   "metadata": {},
   "outputs": [
    {
     "data": {
      "text/plain": [
       "'ballari'"
      ]
     },
     "execution_count": 8,
     "metadata": {},
     "output_type": "execute_result"
    }
   ],
   "source": [
    "var4"
   ]
  },
  {
   "cell_type": "code",
   "execution_count": 9,
   "id": "973db684",
   "metadata": {},
   "outputs": [],
   "source": [
    "var5='mysure'"
   ]
  },
  {
   "cell_type": "code",
   "execution_count": 10,
   "id": "669beef5",
   "metadata": {},
   "outputs": [
    {
     "data": {
      "text/plain": [
       "'mysure'"
      ]
     },
     "execution_count": 10,
     "metadata": {},
     "output_type": "execute_result"
    }
   ],
   "source": [
    "var5"
   ]
  },
  {
   "cell_type": "code",
   "execution_count": 11,
   "id": "43209b5f",
   "metadata": {},
   "outputs": [],
   "source": [
    "var6='vijapura'"
   ]
  },
  {
   "cell_type": "code",
   "execution_count": 12,
   "id": "8c4c1ca0",
   "metadata": {},
   "outputs": [
    {
     "data": {
      "text/plain": [
       "'vijapura'"
      ]
     },
     "execution_count": 12,
     "metadata": {},
     "output_type": "execute_result"
    }
   ],
   "source": [
    "var6"
   ]
  },
  {
   "cell_type": "code",
   "execution_count": 13,
   "id": "061e232a",
   "metadata": {},
   "outputs": [],
   "source": [
    "var7='tumakuru'"
   ]
  },
  {
   "cell_type": "code",
   "execution_count": 14,
   "id": "256bc7ff",
   "metadata": {},
   "outputs": [
    {
     "data": {
      "text/plain": [
       "'tumakuru'"
      ]
     },
     "execution_count": 14,
     "metadata": {},
     "output_type": "execute_result"
    }
   ],
   "source": [
    "var7"
   ]
  },
  {
   "cell_type": "code",
   "execution_count": 15,
   "id": "38673b14",
   "metadata": {},
   "outputs": [],
   "source": [
    "var8='hubbali'"
   ]
  },
  {
   "cell_type": "code",
   "execution_count": 16,
   "id": "ab810ace",
   "metadata": {},
   "outputs": [
    {
     "data": {
      "text/plain": [
       "'hubbali'"
      ]
     },
     "execution_count": 16,
     "metadata": {},
     "output_type": "execute_result"
    }
   ],
   "source": [
    "var8"
   ]
  },
  {
   "cell_type": "code",
   "execution_count": 17,
   "id": "f219b11f",
   "metadata": {},
   "outputs": [],
   "source": [
    "var9='shivamogga'"
   ]
  },
  {
   "cell_type": "code",
   "execution_count": 18,
   "id": "41043ba5",
   "metadata": {},
   "outputs": [
    {
     "data": {
      "text/plain": [
       "'shivamogga'"
      ]
     },
     "execution_count": 18,
     "metadata": {},
     "output_type": "execute_result"
    }
   ],
   "source": [
    "var9"
   ]
  },
  {
   "cell_type": "code",
   "execution_count": 19,
   "id": "a0bb9959",
   "metadata": {},
   "outputs": [],
   "source": [
    "var10='kalaburagi'"
   ]
  },
  {
   "cell_type": "code",
   "execution_count": 20,
   "id": "d057162a",
   "metadata": {},
   "outputs": [
    {
     "data": {
      "text/plain": [
       "'kalaburagi'"
      ]
     },
     "execution_count": 20,
     "metadata": {},
     "output_type": "execute_result"
    }
   ],
   "source": [
    "var10"
   ]
  },
  {
   "cell_type": "code",
   "execution_count": null,
   "id": "86c341cc",
   "metadata": {},
   "outputs": [],
   "source": []
  },
  {
   "cell_type": "code",
   "execution_count": null,
   "id": "9d9756f2",
   "metadata": {},
   "outputs": [],
   "source": []
  },
  {
   "cell_type": "code",
   "execution_count": null,
   "id": "69c7d6b6",
   "metadata": {},
   "outputs": [],
   "source": []
  },
  {
   "cell_type": "code",
   "execution_count": null,
   "id": "ec2a2e76",
   "metadata": {},
   "outputs": [],
   "source": []
  },
  {
   "cell_type": "code",
   "execution_count": null,
   "id": "2054f0ea",
   "metadata": {},
   "outputs": [],
   "source": []
  },
  {
   "cell_type": "code",
   "execution_count": null,
   "id": "fba81332",
   "metadata": {},
   "outputs": [],
   "source": []
  }
 ],
 "metadata": {
  "kernelspec": {
   "display_name": "Python 3 (ipykernel)",
   "language": "python",
   "name": "python3"
  },
  "language_info": {
   "codemirror_mode": {
    "name": "ipython",
    "version": 3
   },
   "file_extension": ".py",
   "mimetype": "text/x-python",
   "name": "python",
   "nbconvert_exporter": "python",
   "pygments_lexer": "ipython3",
   "version": "3.10.9"
  }
 },
 "nbformat": 4,
 "nbformat_minor": 5
}
